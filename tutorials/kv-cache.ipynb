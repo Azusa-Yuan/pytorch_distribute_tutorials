{
 "cells": [
  {
   "cell_type": "code",
   "execution_count": 1,
   "id": "c43875ce-045f-4d01-9ea6-b60d4c46c601",
   "metadata": {
    "execution": {
     "iopub.execute_input": "2024-06-13T16:18:25.797897Z",
     "iopub.status.busy": "2024-06-13T16:18:25.797781Z",
     "iopub.status.idle": "2024-06-13T16:18:25.802613Z",
     "shell.execute_reply": "2024-06-13T16:18:25.802116Z",
     "shell.execute_reply.started": "2024-06-13T16:18:25.797887Z"
    }
   },
   "outputs": [],
   "source": [
    "from IPython.display import Image"
   ]
  },
  {
   "cell_type": "code",
   "execution_count": 2,
   "id": "eba27bc3-1a8e-403d-9853-2849c1919132",
   "metadata": {
    "execution": {
     "iopub.execute_input": "2024-06-13T16:18:25.803534Z",
     "iopub.status.busy": "2024-06-13T16:18:25.803410Z",
     "iopub.status.idle": "2024-06-13T16:18:25.812603Z",
     "shell.execute_reply": "2024-06-13T16:18:25.812110Z",
     "shell.execute_reply.started": "2024-06-13T16:18:25.803524Z"
    }
   },
   "outputs": [
    {
     "data": {
      "text/html": [
       "<img src=\"https://miro.medium.com/v2/resize:fit:828/format:webp/1*uyuyOW1VBqmF5Gtv225XHQ.gif\" width=\"400\"/>"
      ],
      "text/plain": [
       "<IPython.core.display.Image object>"
      ]
     },
     "execution_count": 2,
     "metadata": {},
     "output_type": "execute_result"
    }
   ],
   "source": [
    "Image(url='https://miro.medium.com/v2/resize:fit:828/format:webp/1*uyuyOW1VBqmF5Gtv225XHQ.gif', width=400)"
   ]
  },
  {
   "cell_type": "code",
   "execution_count": 5,
   "id": "0b06238f-f28d-4b74-aef6-4d2d0bf8c277",
   "metadata": {
    "execution": {
     "iopub.execute_input": "2024-06-13T16:19:37.311005Z",
     "iopub.status.busy": "2024-06-13T16:19:37.310412Z",
     "iopub.status.idle": "2024-06-13T16:37:11.069672Z",
     "shell.execute_reply": "2024-06-13T16:37:11.068823Z",
     "shell.execute_reply.started": "2024-06-13T16:19:37.310963Z"
    }
   },
   "outputs": [
    {
     "data": {
      "application/vnd.jupyter.widget-view+json": {
       "model_id": "4e0adb29e6964abe92ba2dd732e239ca",
       "version_major": 2,
       "version_minor": 0
      },
      "text/plain": [
       "tokenizer_config.json:   0%|          | 0.00/26.0 [00:00<?, ?B/s]"
      ]
     },
     "metadata": {},
     "output_type": "display_data"
    },
    {
     "data": {
      "application/vnd.jupyter.widget-view+json": {
       "model_id": "1893db4fa9ad4504b6deed7a79c7d1dc",
       "version_major": 2,
       "version_minor": 0
      },
      "text/plain": [
       "model.safetensors:   0%|          | 0.00/6.43G [00:00<?, ?B/s]"
      ]
     },
     "metadata": {},
     "output_type": "display_data"
    },
    {
     "data": {
      "application/vnd.jupyter.widget-view+json": {
       "model_id": "95a9c120d2be4d7bbda5153ddc0e2bf7",
       "version_major": 2,
       "version_minor": 0
      },
      "text/plain": [
       "generation_config.json:   0%|          | 0.00/124 [00:00<?, ?B/s]"
      ]
     },
     "metadata": {},
     "output_type": "display_data"
    },
    {
     "name": "stderr",
     "output_type": "stream",
     "text": [
      "Setting `pad_token_id` to `eos_token_id`:50256 for open-end generation.\n",
      "Setting `pad_token_id` to `eos_token_id`:50256 for open-end generation.\n",
      "Setting `pad_token_id` to `eos_token_id`:50256 for open-end generation.\n",
      "Setting `pad_token_id` to `eos_token_id`:50256 for open-end generation.\n",
      "Setting `pad_token_id` to `eos_token_id`:50256 for open-end generation.\n",
      "Setting `pad_token_id` to `eos_token_id`:50256 for open-end generation.\n",
      "Setting `pad_token_id` to `eos_token_id`:50256 for open-end generation.\n",
      "Setting `pad_token_id` to `eos_token_id`:50256 for open-end generation.\n",
      "Setting `pad_token_id` to `eos_token_id`:50256 for open-end generation.\n",
      "Setting `pad_token_id` to `eos_token_id`:50256 for open-end generation.\n",
      "Setting `pad_token_id` to `eos_token_id`:50256 for open-end generation.\n"
     ]
    },
    {
     "name": "stdout",
     "output_type": "stream",
     "text": [
      "with KV caching: 22.736 +- 0.364 seconds\n"
     ]
    },
    {
     "name": "stderr",
     "output_type": "stream",
     "text": [
      "Setting `pad_token_id` to `eos_token_id`:50256 for open-end generation.\n",
      "Setting `pad_token_id` to `eos_token_id`:50256 for open-end generation.\n",
      "Setting `pad_token_id` to `eos_token_id`:50256 for open-end generation.\n",
      "Setting `pad_token_id` to `eos_token_id`:50256 for open-end generation.\n",
      "Setting `pad_token_id` to `eos_token_id`:50256 for open-end generation.\n",
      "Setting `pad_token_id` to `eos_token_id`:50256 for open-end generation.\n",
      "Setting `pad_token_id` to `eos_token_id`:50256 for open-end generation.\n",
      "Setting `pad_token_id` to `eos_token_id`:50256 for open-end generation.\n",
      "Setting `pad_token_id` to `eos_token_id`:50256 for open-end generation.\n"
     ]
    },
    {
     "name": "stdout",
     "output_type": "stream",
     "text": [
      "without KV caching: 65.567 +- 0.079 seconds\n"
     ]
    }
   ],
   "source": [
    "import numpy as np\n",
    "import time\n",
    "import torch\n",
    "from transformers import AutoModelForCausalLM, AutoTokenizer\n",
    "import os\n",
    "os.environ['http_proxy'] = 'http://127.0.0.1:7890'\n",
    "os.environ['https_proxy'] = 'http://127.0.0.1:7890'\n",
    "\n",
    "device = \"cuda\" if torch.cuda.is_available() else \"cpu\"\n",
    "tokenizer = AutoTokenizer.from_pretrained(\"gpt2-xl\")\n",
    "model = AutoModelForCausalLM.from_pretrained(\"gpt2-xl\").to(device)\n",
    "\n",
    "for use_cache in (True, False):\n",
    "    times = []\n",
    "    for _ in range(10):  # measuring 10 generations\n",
    "        start = time.time()\n",
    "        model.generate(**tokenizer(\"What is KV caching?\", return_tensors=\"pt\").to(device), \n",
    "                       use_cache=use_cache, max_new_tokens=1000)\n",
    "        times.append(time.time() - start)\n",
    "    print(f\"{'with' if use_cache else 'without'} KV caching: {round(np.mean(times), 3)} +- {round(np.std(times), 3)} seconds\")"
   ]
  },
  {
   "cell_type": "code",
   "execution_count": 25,
   "id": "b899c2af-0dfd-4b0f-911f-90871ed979e2",
   "metadata": {
    "execution": {
     "iopub.execute_input": "2024-06-13T16:55:52.229704Z",
     "iopub.status.busy": "2024-06-13T16:55:52.229046Z",
     "iopub.status.idle": "2024-06-13T16:55:52.241448Z",
     "shell.execute_reply": "2024-06-13T16:55:52.239216Z",
     "shell.execute_reply.started": "2024-06-13T16:55:52.229657Z"
    }
   },
   "outputs": [],
   "source": [
    "L, l, d = 5, 2, 3\n",
    "K_past = np.random.randn(L, 3)\n",
    "V_past = np.random.randn(L, 3)\n",
    "Q_past = np.random.randn(L, 3)\n",
    "\n",
    "Q_new = np.random.randn(l, 3)\n",
    "K_new = np.random.randn(l, 3)\n",
    "V_new = np.random.randn(l, 3)\n"
   ]
  },
  {
   "cell_type": "code",
   "execution_count": 26,
   "id": "5d64c607-7446-4e34-8af1-a73304404595",
   "metadata": {
    "execution": {
     "iopub.execute_input": "2024-06-13T16:55:54.014210Z",
     "iopub.status.busy": "2024-06-13T16:55:54.013574Z",
     "iopub.status.idle": "2024-06-13T16:55:54.024987Z",
     "shell.execute_reply": "2024-06-13T16:55:54.022763Z",
     "shell.execute_reply.started": "2024-06-13T16:55:54.014162Z"
    }
   },
   "outputs": [],
   "source": [
    "def create_custom_matrix(n):\n",
    "    # 创建一个全为负无穷的矩阵\n",
    "    matrix = np.full((n, n), -np.inf)\n",
    "    \n",
    "    # 将下三角部分（包括对角线）设置为0\n",
    "    lower_triangle_indices = np.tril_indices(n)\n",
    "    matrix[lower_triangle_indices] = 0\n",
    "    \n",
    "    return matrix"
   ]
  },
  {
   "cell_type": "code",
   "execution_count": 27,
   "id": "47d36d5f-0346-4942-8feb-ecb960b4d257",
   "metadata": {
    "execution": {
     "iopub.execute_input": "2024-06-13T16:55:55.472577Z",
     "iopub.status.busy": "2024-06-13T16:55:55.471956Z",
     "iopub.status.idle": "2024-06-13T16:55:55.482680Z",
     "shell.execute_reply": "2024-06-13T16:55:55.480642Z",
     "shell.execute_reply.started": "2024-06-13T16:55:55.472529Z"
    }
   },
   "outputs": [],
   "source": [
    "M1 = create_custom_matrix(5)"
   ]
  },
  {
   "cell_type": "code",
   "execution_count": 32,
   "id": "7b5e6d32-0d9f-4709-80ff-6caaa53c4c82",
   "metadata": {
    "execution": {
     "iopub.execute_input": "2024-06-13T16:56:36.954091Z",
     "iopub.status.busy": "2024-06-13T16:56:36.952795Z",
     "iopub.status.idle": "2024-06-13T16:56:36.963977Z",
     "shell.execute_reply": "2024-06-13T16:56:36.962702Z",
     "shell.execute_reply.started": "2024-06-13T16:56:36.954041Z"
    }
   },
   "outputs": [
    {
     "data": {
      "text/plain": [
       "array([[1.        , 0.        , 0.        , 0.        , 0.        ],\n",
       "       [0.50531718, 0.49468282, 0.        , 0.        , 0.        ],\n",
       "       [0.29997653, 0.536565  , 0.16345847, 0.        , 0.        ],\n",
       "       [0.76033611, 0.0168573 , 0.14218103, 0.08062556, 0.        ],\n",
       "       [0.5052315 , 0.07355313, 0.14660357, 0.16042448, 0.11418731]])"
      ]
     },
     "execution_count": 32,
     "metadata": {},
     "output_type": "execute_result"
    }
   ],
   "source": [
    "import scipy as sp\n",
    "sp.special.softmax((Q_past.dot(K_past.T))/np.sqrt(3) + M1, axis=1)"
   ]
  },
  {
   "cell_type": "code",
   "execution_count": 29,
   "id": "c1d8c0ad-14e2-4fff-a1e4-5354b3f625eb",
   "metadata": {
    "execution": {
     "iopub.execute_input": "2024-06-13T16:56:05.354249Z",
     "iopub.status.busy": "2024-06-13T16:56:05.353610Z",
     "iopub.status.idle": "2024-06-13T16:56:05.364771Z",
     "shell.execute_reply": "2024-06-13T16:56:05.362620Z",
     "shell.execute_reply.started": "2024-06-13T16:56:05.354203Z"
    }
   },
   "outputs": [],
   "source": [
    "M2 = create_custom_matrix(7)"
   ]
  },
  {
   "cell_type": "code",
   "execution_count": 33,
   "id": "59462841-c0d5-48c6-ae27-0203986e6716",
   "metadata": {
    "execution": {
     "iopub.execute_input": "2024-06-13T16:56:43.732211Z",
     "iopub.status.busy": "2024-06-13T16:56:43.731614Z",
     "iopub.status.idle": "2024-06-13T16:56:43.749032Z",
     "shell.execute_reply": "2024-06-13T16:56:43.747023Z",
     "shell.execute_reply.started": "2024-06-13T16:56:43.732166Z"
    }
   },
   "outputs": [
    {
     "data": {
      "text/plain": [
       "array([[1.        , 0.        , 0.        , 0.        , 0.        ,\n",
       "        0.        , 0.        ],\n",
       "       [0.50531718, 0.49468282, 0.        , 0.        , 0.        ,\n",
       "        0.        , 0.        ],\n",
       "       [0.29997653, 0.536565  , 0.16345847, 0.        , 0.        ,\n",
       "        0.        , 0.        ],\n",
       "       [0.76033611, 0.0168573 , 0.14218103, 0.08062556, 0.        ,\n",
       "        0.        , 0.        ],\n",
       "       [0.5052315 , 0.07355313, 0.14660357, 0.16042448, 0.11418731,\n",
       "        0.        , 0.        ],\n",
       "       [0.23272304, 0.03505261, 0.17606401, 0.21343528, 0.03424012,\n",
       "        0.30848495, 0.        ],\n",
       "       [0.26807313, 0.12724091, 0.02830417, 0.02682431, 0.34348339,\n",
       "        0.01331476, 0.19275933]])"
      ]
     },
     "execution_count": 33,
     "metadata": {},
     "output_type": "execute_result"
    }
   ],
   "source": [
    "Q = np.concatenate([Q_past, Q_new], axis=0)\n",
    "K = np.concatenate([K_past, K_new], axis=0)\n",
    "sp.special.softmax((Q.dot(K.T))/np.sqrt(3) + M2, axis=1)"
   ]
  },
  {
   "cell_type": "code",
   "execution_count": 34,
   "id": "f2bd9aee-2ce2-42dd-a1ef-dd395fdc0ab7",
   "metadata": {
    "execution": {
     "iopub.execute_input": "2024-06-13T16:57:24.371227Z",
     "iopub.status.busy": "2024-06-13T16:57:24.370504Z",
     "iopub.status.idle": "2024-06-13T16:57:24.384914Z",
     "shell.execute_reply": "2024-06-13T16:57:24.382731Z",
     "shell.execute_reply.started": "2024-06-13T16:57:24.371176Z"
    }
   },
   "outputs": [
    {
     "data": {
      "text/plain": [
       "array([[0.38646134, 0.1143066 , 0.15626135, 0.19143388, 0.15153683],\n",
       "       [0.23936974, 0.23433222, 0.06876375, 0.10532107, 0.35221322],\n",
       "       [0.15590318, 0.27886245, 0.0849523 , 0.06249587, 0.41778621],\n",
       "       [0.73318379, 0.01625531, 0.13710361, 0.07774635, 0.03571094],\n",
       "       [0.5052315 , 0.07355313, 0.14660357, 0.16042448, 0.11418731]])"
      ]
     },
     "execution_count": 34,
     "metadata": {},
     "output_type": "execute_result"
    }
   ],
   "source": [
    "import scipy as sp\n",
    "sp.special.softmax((Q_past.dot(K_past.T))/np.sqrt(3), axis=1)"
   ]
  },
  {
   "cell_type": "code",
   "execution_count": 35,
   "id": "d97d5ab0-3d42-4d81-ac77-94ae21e65c5a",
   "metadata": {
    "execution": {
     "iopub.execute_input": "2024-06-13T16:57:35.334943Z",
     "iopub.status.busy": "2024-06-13T16:57:35.334294Z",
     "iopub.status.idle": "2024-06-13T16:57:35.348614Z",
     "shell.execute_reply": "2024-06-13T16:57:35.346551Z",
     "shell.execute_reply.started": "2024-06-13T16:57:35.334895Z"
    }
   },
   "outputs": [
    {
     "data": {
      "text/plain": [
       "array([[0.27338655, 0.08086162, 0.11054082, 0.13542221, 0.10719864,\n",
       "        0.12119723, 0.17139293],\n",
       "       [0.18972051, 0.18572786, 0.05450102, 0.08347575, 0.2791584 ,\n",
       "        0.04001717, 0.1673993 ],\n",
       "       [0.12577075, 0.22496488, 0.06853301, 0.05041689, 0.33703794,\n",
       "        0.03791266, 0.15536387],\n",
       "       [0.53206941, 0.01179643, 0.0994957 , 0.0564203 , 0.02591533,\n",
       "        0.11822246, 0.15608036],\n",
       "       [0.35676099, 0.05193834, 0.10352172, 0.11328113, 0.08063151,\n",
       "        0.11579268, 0.17807362],\n",
       "       [0.20771485, 0.03128589, 0.15714434, 0.19049973, 0.03056071,\n",
       "        0.27533546, 0.10745902],\n",
       "       [0.26807313, 0.12724091, 0.02830417, 0.02682431, 0.34348339,\n",
       "        0.01331476, 0.19275933]])"
      ]
     },
     "execution_count": 35,
     "metadata": {},
     "output_type": "execute_result"
    }
   ],
   "source": [
    "sp.special.softmax((Q.dot(K.T))/np.sqrt(3), axis=1)"
   ]
  },
  {
   "cell_type": "markdown",
   "id": "70fae4c1-ee62-4c46-860d-f725b43c4d59",
   "metadata": {},
   "source": [
    "## encoder-decoder vs. decoder only "
   ]
  },
  {
   "cell_type": "markdown",
   "id": "1a44bfa8-f06a-4f66-8680-80ef70c81d70",
   "metadata": {},
   "source": [
    "- 以多轮对话为例，从计算复杂度的角度探索为什么 decoder-only 更优\n",
    "- 定义\n",
    "    - $L$: past sequence length\n",
    "    - $\\ell$: 新的输入的长度\n",
    "    - $d$：embedding dimension\n",
    "- decoder only\n",
    "    - KVcache: $K_{past}, V_{past}$\n",
    "    - 每次新输入时，计算键值（$K_{new}, V_{new}$），时间复杂度为 $O(\\ell\\cdot d)$，也需要计算 Query $Q_{new}$\n",
    "    - 计算注意力，\n",
    "        - $Q=Q_{new}\\in \\mathbb R^{\\ell \\cdot d}$\n",
    "        - $K=[K_{past}, K_{new}]\\in \\mathbb R^{(L+\\ell)\\cdot d}$\n",
    "        - $V=[V_{past}, V_{new}]\\in \\mathbb R^{(L+\\ell)\\cdot d}$\n",
    "        - $A=QK^T\\in \\mathbb R^{\\ell\\cdot(\\ell+L)}$\n",
    "            - $q_i$ 要跟 $L+i$ 的 K 计算 score vector；\n",
    "        - $\\text{softmax}(A)\\cdot V\\in \\mathbb R^{\\ell\\cdot d}$\n",
    "- 对于 encoder-decoder\n",
    "    - At every turn, the new input has to be encoded again; for unidirectional attention, only the newly added message needs to be encoded."
   ]
  }
 ],
 "metadata": {
  "kernelspec": {
   "display_name": "Python 3 (ipykernel)",
   "language": "python",
   "name": "python3"
  },
  "language_info": {
   "codemirror_mode": {
    "name": "ipython",
    "version": 3
   },
   "file_extension": ".py",
   "mimetype": "text/x-python",
   "name": "python",
   "nbconvert_exporter": "python",
   "pygments_lexer": "ipython3",
   "version": "3.10.13"
  }
 },
 "nbformat": 4,
 "nbformat_minor": 5
}
