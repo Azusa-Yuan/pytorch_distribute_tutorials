{
 "cells": [
  {
   "cell_type": "markdown",
   "id": "7075fea6",
   "metadata": {},
   "source": [
    "## basics"
   ]
  },
  {
   "cell_type": "markdown",
   "id": "dc1ddb54",
   "metadata": {},
   "source": [
    "- https://github.com/microsoft/DeepSpeed\n",
    "    - https://www.microsoft.com/en-us/research/blog/turing-nlg-a-17-billion-parameter-language-model-by-microsoft/\n",
    "- pip 安装之后，可以通过 `ds_report` 命令查看环境配置信息；\n",
    "- bag of tricks\n",
    "    - $O(n^2)$（$n$ 表示序列长度） => sparse attention；\n",
    "        - 10x longer seq，up to 6x faster；"
   ]
  },
  {
   "cell_type": "markdown",
   "id": "f3f6ac8d",
   "metadata": {},
   "source": [
    "## ZeRO: Zero Redundancy Optimizer"
   ]
  },
  {
   "cell_type": "markdown",
   "id": "ef825023",
   "metadata": {},
   "source": [
    "## 使用"
   ]
  },
  {
   "cell_type": "code",
   "execution_count": 1,
   "id": "004b6eae",
   "metadata": {
    "ExecuteTime": {
     "end_time": "2023-12-14T14:10:21.585416Z",
     "start_time": "2023-12-14T14:10:18.133337Z"
    }
   },
   "outputs": [],
   "source": [
    "import os\n",
    "import torch\n",
    "import transformers\n",
    "import deepspeed"
   ]
  },
  {
   "cell_type": "code",
   "execution_count": 2,
   "id": "3fb232dc",
   "metadata": {
    "ExecuteTime": {
     "end_time": "2023-12-14T14:10:23.215039Z",
     "start_time": "2023-12-14T14:10:22.674084Z"
    }
   },
   "outputs": [
    {
     "name": "stdout",
     "output_type": "stream",
     "text": [
      "[2023-12-14 22:10:22,675] [INFO] [comm.py:606:init_distributed] Not using the DeepSpeed or dist launchers, attempting to detect MPI environment...\n",
      "[2023-12-14 22:10:23,210] [INFO] [comm.py:656:mpi_discovery] Discovered MPI settings of world_rank=0, local_rank=0, world_size=1, master_addr=169.254.3.1, master_port=29500\n",
      "[2023-12-14 22:10:23,211] [INFO] [comm.py:622:init_distributed] Initializing TorchBackend in DeepSpeed with backend nccl\n"
     ]
    }
   ],
   "source": [
    "os.environ[\"TOKENIZERS_PARALLELISM\"] = \"false\"  # To avoid warnings about parallelism in tokenizers\n",
    "\n",
    "# distributed setup\n",
    "local_rank = int(os.getenv(\"LOCAL_RANK\", \"0\"))\n",
    "world_size = int(os.getenv(\"WORLD_SIZE\", \"1\"))\n",
    "torch.cuda.set_device(local_rank)\n",
    "deepspeed.init_distributed()"
   ]
  },
  {
   "cell_type": "code",
   "execution_count": null,
   "id": "3169b104",
   "metadata": {},
   "outputs": [],
   "source": []
  }
 ],
 "metadata": {
  "kernelspec": {
   "display_name": "Python 3 (ipykernel)",
   "language": "python",
   "name": "python3"
  },
  "language_info": {
   "codemirror_mode": {
    "name": "ipython",
    "version": 3
   },
   "file_extension": ".py",
   "mimetype": "text/x-python",
   "name": "python",
   "nbconvert_exporter": "python",
   "pygments_lexer": "ipython3",
   "version": "3.10.13"
  },
  "toc": {
   "base_numbering": 1,
   "nav_menu": {},
   "number_sections": true,
   "sideBar": true,
   "skip_h1_title": false,
   "title_cell": "Table of Contents",
   "title_sidebar": "Contents",
   "toc_cell": false,
   "toc_position": {},
   "toc_section_display": true,
   "toc_window_display": false
  }
 },
 "nbformat": 4,
 "nbformat_minor": 5
}
