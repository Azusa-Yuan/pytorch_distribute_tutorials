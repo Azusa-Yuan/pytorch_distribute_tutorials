{
 "cells": [
  {
   "cell_type": "code",
   "execution_count": 4,
   "id": "a3b1f07d",
   "metadata": {
    "ExecuteTime": {
     "end_time": "2023-12-20T14:59:31.811267Z",
     "start_time": "2023-12-20T14:59:31.805487Z"
    }
   },
   "outputs": [],
   "source": [
    "import os\n",
    "os.environ['http_proxy'] = '127.0.0.1:7890'\n",
    "os.environ['https_proxy'] = '127.0.0.1:7890'"
   ]
  },
  {
   "cell_type": "markdown",
   "id": "7075fea6",
   "metadata": {},
   "source": [
    "## basics"
   ]
  },
  {
   "cell_type": "markdown",
   "id": "dc1ddb54",
   "metadata": {},
   "source": [
    "- https://github.com/microsoft/DeepSpeed\n",
    "    - https://www.microsoft.com/en-us/research/blog/turing-nlg-a-17-billion-parameter-language-model-by-microsoft/\n",
    "- huggingface DeepSpeed Integration\n",
    "    - https://huggingface.co/docs/transformers/main_classes/deepspeed\n",
    "- pip 安装之后，可以通过 `ds_report` 命令查看环境配置信息；\n",
    "- bag of tricks\n",
    "    - $O(n^2)$（$n$ 表示序列长度） => sparse attention；\n",
    "        - 10x longer seq，up to 6x faster；"
   ]
  },
  {
   "cell_type": "markdown",
   "id": "f3f6ac8d",
   "metadata": {},
   "source": [
    "## ZeRO: Zero Redundancy Optimizer"
   ]
  },
  {
   "cell_type": "markdown",
   "id": "ef825023",
   "metadata": {},
   "source": [
    "## 使用"
   ]
  },
  {
   "cell_type": "markdown",
   "id": "fb5060df",
   "metadata": {},
   "source": [
    "- https://huggingface.co/docs/transformers/main_classes/deepspeed"
   ]
  },
  {
   "cell_type": "markdown",
   "id": "76506e85",
   "metadata": {},
   "source": [
    "### cli"
   ]
  },
  {
   "cell_type": "markdown",
   "id": "0aed8c1a",
   "metadata": {},
   "source": [
    "- https://colab.research.google.com/github/stas00/porting/blob/master/transformers/deepspeed/DeepSpeed_on_colab_CLI.ipynb#scrollTo=vSlYvQWLwblN"
   ]
  },
  {
   "cell_type": "markdown",
   "id": "7b452694",
   "metadata": {},
   "source": [
    "### inference"
   ]
  },
  {
   "cell_type": "markdown",
   "id": "3a4498c2",
   "metadata": {},
   "source": [
    "- inference-tutorial\n",
    "    - https://github.com/microsoft/DeepSpeed/blob/master/docs/_tutorials/inference-tutorial.md"
   ]
  },
  {
   "cell_type": "code",
   "execution_count": 1,
   "id": "8438a293",
   "metadata": {
    "ExecuteTime": {
     "end_time": "2023-12-20T14:59:25.800641Z",
     "start_time": "2023-12-20T14:59:20.126112Z"
    }
   },
   "outputs": [
    {
     "name": "stdout",
     "output_type": "stream",
     "text": [
      "[2023-12-20 22:59:22,719] [INFO] [real_accelerator.py:161:get_accelerator] Setting ds_accelerator to cuda (auto detect)\n"
     ]
    }
   ],
   "source": [
    "from transformers import AutoTokenizer, AutoConfig, AutoModelForSeq2SeqLM\n",
    "from transformers.integrations import HfDeepSpeedConfig\n",
    "import deepspeed\n",
    "import os\n",
    "import torch"
   ]
  },
  {
   "cell_type": "code",
   "execution_count": 2,
   "id": "f5d91340",
   "metadata": {
    "ExecuteTime": {
     "end_time": "2023-12-20T14:59:27.713288Z",
     "start_time": "2023-12-20T14:59:27.710246Z"
    }
   },
   "outputs": [],
   "source": [
    "os.environ[\"TOKENIZERS_PARALLELISM\"] = \"false\""
   ]
  },
  {
   "cell_type": "code",
   "execution_count": 3,
   "id": "805a0602",
   "metadata": {
    "ExecuteTime": {
     "end_time": "2023-12-20T14:59:29.458656Z",
     "start_time": "2023-12-20T14:59:28.987817Z"
    }
   },
   "outputs": [
    {
     "name": "stdout",
     "output_type": "stream",
     "text": [
      "[2023-12-20 22:59:28,990] [INFO] [comm.py:637:init_distributed] cdb=None\n",
      "[2023-12-20 22:59:28,993] [INFO] [comm.py:652:init_distributed] Not using the DeepSpeed or dist launchers, attempting to detect MPI environment...\n",
      "[2023-12-20 22:59:29,450] [INFO] [comm.py:702:mpi_discovery] Discovered MPI settings of world_rank=0, local_rank=0, world_size=1, master_addr=169.254.3.1, master_port=29500\n",
      "[2023-12-20 22:59:29,453] [INFO] [comm.py:668:init_distributed] Initializing TorchBackend in DeepSpeed with backend nccl\n"
     ]
    }
   ],
   "source": [
    "local_rank = int(os.getenv(\"LOCAL_RANK\", \"0\"))\n",
    "world_size = int(os.getenv(\"WORLD_SIZE\", \"1\"))\n",
    "torch.cuda.set_device(local_rank)\n",
    "deepspeed.init_distributed()"
   ]
  },
  {
   "cell_type": "code",
   "execution_count": 8,
   "id": "7a9e57f5",
   "metadata": {
    "ExecuteTime": {
     "end_time": "2023-12-20T14:59:49.649806Z",
     "start_time": "2023-12-20T14:59:49.290940Z"
    }
   },
   "outputs": [],
   "source": [
    "model_name = \"bigscience/T0_3B\"\n",
    "config = AutoConfig.from_pretrained(model_name)\n",
    "model_hidden_size = config.d_model\n",
    "train_batch_size = 1 * world_size"
   ]
  },
  {
   "cell_type": "code",
   "execution_count": 9,
   "id": "c1dfbba9",
   "metadata": {
    "ExecuteTime": {
     "end_time": "2023-12-20T14:59:51.921235Z",
     "start_time": "2023-12-20T14:59:51.913275Z"
    }
   },
   "outputs": [],
   "source": [
    "ds_config = {\n",
    "    \"fp16\": {\n",
    "        \"enabled\": False\n",
    "    },\n",
    "    \"bf16\": {\n",
    "        \"enabled\": False\n",
    "    },\n",
    "    \"zero_optimization\": {\n",
    "        \"stage\": 3,\n",
    "        \"offload_param\": {\n",
    "            \"device\": \"cpu\",\n",
    "            \"pin_memory\": True\n",
    "        },\n",
    "        \"overlap_comm\": True,\n",
    "        \"contiguous_gradients\": True,\n",
    "        \"reduce_bucket_size\": model_hidden_size * model_hidden_size,\n",
    "        \"stage3_prefetch_bucket_size\": 0.9 * model_hidden_size * model_hidden_size,\n",
    "        \"stage3_param_persistence_threshold\": 10 * model_hidden_size\n",
    "    },\n",
    "    \"steps_per_print\": 2000,\n",
    "    \"train_batch_size\": train_batch_size,\n",
    "    \"train_micro_batch_size_per_gpu\": 1,\n",
    "    \"wall_clock_breakdown\": False\n",
    "}"
   ]
  },
  {
   "cell_type": "code",
   "execution_count": 10,
   "id": "8d3f2313",
   "metadata": {
    "ExecuteTime": {
     "end_time": "2023-12-20T14:59:54.164688Z",
     "start_time": "2023-12-20T14:59:54.154467Z"
    }
   },
   "outputs": [],
   "source": [
    "dschf = HfDeepSpeedConfig(ds_config) "
   ]
  },
  {
   "cell_type": "code",
   "execution_count": null,
   "id": "a33209ba",
   "metadata": {},
   "outputs": [],
   "source": []
  }
 ],
 "metadata": {
  "kernelspec": {
   "display_name": "Python 3 (ipykernel)",
   "language": "python",
   "name": "python3"
  },
  "language_info": {
   "codemirror_mode": {
    "name": "ipython",
    "version": 3
   },
   "file_extension": ".py",
   "mimetype": "text/x-python",
   "name": "python",
   "nbconvert_exporter": "python",
   "pygments_lexer": "ipython3",
   "version": "3.10.13"
  },
  "toc": {
   "base_numbering": 1,
   "nav_menu": {},
   "number_sections": true,
   "sideBar": true,
   "skip_h1_title": false,
   "title_cell": "Table of Contents",
   "title_sidebar": "Contents",
   "toc_cell": false,
   "toc_position": {},
   "toc_section_display": true,
   "toc_window_display": false
  }
 },
 "nbformat": 4,
 "nbformat_minor": 5
}
