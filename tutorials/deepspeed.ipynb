{
 "cells": [
  {
   "cell_type": "code",
   "execution_count": null,
   "id": "290fae80",
   "metadata": {
    "ExecuteTime": {
     "end_time": "2023-12-20T14:55:08.400463Z",
     "start_time": "2023-12-20T14:55:08.397012Z"
    }
   },
   "outputs": [],
   "source": [
    "import os\n",
    "os.environ['http_proxy'] = '127.0.0.1:7890'\n",
    "os.environ['https_proxy'] = '127.0.0.1:7890'"
   ]
  },
  {
   "cell_type": "markdown",
   "id": "7075fea6",
   "metadata": {},
   "source": [
    "## basics"
   ]
  },
  {
   "cell_type": "markdown",
   "id": "dc1ddb54",
   "metadata": {},
   "source": [
    "- https://github.com/microsoft/DeepSpeed\n",
    "    - https://www.microsoft.com/en-us/research/blog/turing-nlg-a-17-billion-parameter-language-model-by-microsoft/\n",
    "- huggingface DeepSpeed Integration\n",
    "    - https://huggingface.co/docs/transformers/main_classes/deepspeed\n",
    "- pip 安装之后，可以通过 `ds_report` 命令查看环境配置信息；\n",
    "- bag of tricks\n",
    "    - $O(n^2)$（$n$ 表示序列长度） => sparse attention；\n",
    "        - 10x longer seq，up to 6x faster；"
   ]
  },
  {
   "cell_type": "markdown",
   "id": "f3f6ac8d",
   "metadata": {},
   "source": [
    "## ZeRO: Zero Redundancy Optimizer"
   ]
  },
  {
   "cell_type": "markdown",
   "id": "ef825023",
   "metadata": {},
   "source": [
    "## 使用"
   ]
  },
  {
   "cell_type": "markdown",
   "id": "fb5060df",
   "metadata": {},
   "source": [
    "- https://huggingface.co/docs/transformers/main_classes/deepspeed"
   ]
  },
  {
   "cell_type": "markdown",
   "id": "76506e85",
   "metadata": {},
   "source": [
    "### cli"
   ]
  },
  {
   "cell_type": "markdown",
   "id": "0aed8c1a",
   "metadata": {},
   "source": [
    "- https://colab.research.google.com/github/stas00/porting/blob/master/transformers/deepspeed/DeepSpeed_on_colab_CLI.ipynb#scrollTo=vSlYvQWLwblN"
   ]
  },
  {
   "cell_type": "markdown",
   "id": "7b452694",
   "metadata": {},
   "source": [
    "### inference"
   ]
  },
  {
   "cell_type": "markdown",
   "id": "3a4498c2",
   "metadata": {},
   "source": [
    "- inference-tutorial\n",
    "    - https://github.com/microsoft/DeepSpeed/blob/master/docs/_tutorials/inference-tutorial.md"
   ]
  },
  {
   "cell_type": "code",
   "execution_count": null,
   "id": "8438a293",
   "metadata": {
    "ExecuteTime": {
     "end_time": "2023-12-20T14:52:31.808333Z",
     "start_time": "2023-12-20T14:52:28.638640Z"
    }
   },
   "outputs": [],
   "source": [
    "from transformers import AutoTokenizer, AutoConfig, AutoModelForSeq2SeqLM\n",
    "from transformers.integrations import HfDeepSpeedConfig\n",
    "import deepspeed\n",
    "import os\n",
    "import torch"
   ]
  },
  {
   "cell_type": "code",
   "execution_count": null,
   "id": "b33935e1",
   "metadata": {
    "ExecuteTime": {
     "end_time": "2023-12-20T14:52:47.432971Z",
     "start_time": "2023-12-20T14:52:47.429642Z"
    }
   },
   "outputs": [],
   "source": [
    "os.environ[\"TOKENIZERS_PARALLELISM\"] = \"false\""
   ]
  },
  {
   "cell_type": "code",
   "execution_count": null,
   "id": "61375d14",
   "metadata": {
    "ExecuteTime": {
     "end_time": "2023-12-20T14:52:56.422397Z",
     "start_time": "2023-12-20T14:52:55.960907Z"
    }
   },
   "outputs": [],
   "source": [
    "local_rank = int(os.getenv(\"LOCAL_RANK\", \"0\"))\n",
    "world_size = int(os.getenv(\"WORLD_SIZE\", \"1\"))\n",
    "torch.cuda.set_device(local_rank)\n",
    "deepspeed.init_distributed()"
   ]
  },
  {
   "cell_type": "code",
   "execution_count": null,
   "id": "cbeee0e3",
   "metadata": {
    "ExecuteTime": {
     "end_time": "2023-12-20T14:53:16.762582Z",
     "start_time": "2023-12-20T14:53:16.757381Z"
    }
   },
   "outputs": [],
   "source": [
    "model_name = \"bigscience/T0_3B\"\n"
   ]
  },
  {
   "cell_type": "code",
   "execution_count": null,
   "id": "c6534562",
   "metadata": {
    "ExecuteTime": {
     "end_time": "2023-12-20T14:55:11.473953Z",
     "start_time": "2023-12-20T14:55:10.439893Z"
    }
   },
   "outputs": [],
   "source": [
    "config = AutoConfig.from_pretrained(model_name)\n",
    "model_hidden_size = config.d_model"
   ]
  },
  {
   "cell_type": "code",
   "execution_count": null,
   "id": "09427cbc",
   "metadata": {
    "ExecuteTime": {
     "end_time": "2023-12-20T14:55:28.269019Z",
     "start_time": "2023-12-20T14:55:28.263661Z"
    }
   },
   "outputs": [],
   "source": [
    "train_batch_size = 1 * world_size"
   ]
  },
  {
   "cell_type": "code",
   "execution_count": null,
   "id": "d49fc144",
   "metadata": {
    "ExecuteTime": {
     "end_time": "2023-12-20T14:55:38.790595Z",
     "start_time": "2023-12-20T14:55:38.783770Z"
    }
   },
   "outputs": [],
   "source": [
    "ds_config = {\n",
    "    \"fp16\": {\n",
    "        \"enabled\": False\n",
    "    },\n",
    "    \"bf16\": {\n",
    "        \"enabled\": False\n",
    "    },\n",
    "    \"zero_optimization\": {\n",
    "        \"stage\": 3,\n",
    "        \"offload_param\": {\n",
    "            \"device\": \"cpu\",\n",
    "            \"pin_memory\": True\n",
    "        },\n",
    "        \"overlap_comm\": True,\n",
    "        \"contiguous_gradients\": True,\n",
    "        \"reduce_bucket_size\": model_hidden_size * model_hidden_size,\n",
    "        \"stage3_prefetch_bucket_size\": 0.9 * model_hidden_size * model_hidden_size,\n",
    "        \"stage3_param_persistence_threshold\": 10 * model_hidden_size\n",
    "    },\n",
    "    \"steps_per_print\": 2000,\n",
    "    \"train_batch_size\": train_batch_size,\n",
    "    \"train_micro_batch_size_per_gpu\": 1,\n",
    "    \"wall_clock_breakdown\": False\n",
    "}"
   ]
  },
  {
   "cell_type": "code",
   "execution_count": null,
   "id": "5f0e79cf",
   "metadata": {
    "ExecuteTime": {
     "end_time": "2023-12-20T14:58:18.930818Z",
     "start_time": "2023-12-20T14:58:18.908665Z"
    }
   },
   "outputs": [],
   "source": [
    "dschf = HfDeepSpeedConfig(ds_config) "
   ]
  },
  {
   "cell_type": "code",
   "execution_count": null,
   "id": "3726a55d",
   "metadata": {},
   "outputs": [],
   "source": []
  }
 ],
 "metadata": {
  "kernelspec": {
   "display_name": "Python 3 (ipykernel)",
   "language": "python",
   "name": "python3"
  },
  "language_info": {
   "codemirror_mode": {
    "name": "ipython",
    "version": 3
   },
   "file_extension": ".py",
   "mimetype": "text/x-python",
   "name": "python",
   "nbconvert_exporter": "python",
   "pygments_lexer": "ipython3",
   "version": "3.10.13"
  },
  "toc": {
   "base_numbering": 1,
   "nav_menu": {},
   "number_sections": true,
   "sideBar": true,
   "skip_h1_title": false,
   "title_cell": "Table of Contents",
   "title_sidebar": "Contents",
   "toc_cell": false,
   "toc_position": {},
   "toc_section_display": true,
   "toc_window_display": false
  }
 },
 "nbformat": 4,
 "nbformat_minor": 5
}
