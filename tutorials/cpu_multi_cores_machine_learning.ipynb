{
 "cells": [
  {
   "cell_type": "code",
   "execution_count": 26,
   "id": "27a3dcb2",
   "metadata": {
    "ExecuteTime": {
     "end_time": "2024-02-13T10:16:26.350549Z",
     "start_time": "2024-02-13T10:16:26.344449Z"
    }
   },
   "outputs": [
    {
     "data": {
      "text/plain": [
       "12"
      ]
     },
     "execution_count": 26,
     "metadata": {},
     "output_type": "execute_result"
    }
   ],
   "source": [
    "import os\n",
    "import numpy as np\n",
    "os.cpu_count()"
   ]
  },
  {
   "cell_type": "markdown",
   "id": "b8dcb4d6",
   "metadata": {},
   "source": [
    "## dataset"
   ]
  },
  {
   "cell_type": "code",
   "execution_count": 1,
   "id": "47d9b800",
   "metadata": {
    "ExecuteTime": {
     "end_time": "2024-02-13T09:39:12.768643Z",
     "start_time": "2024-02-13T09:39:02.000723Z"
    }
   },
   "outputs": [],
   "source": [
    "import pandas as pd"
   ]
  },
  {
   "cell_type": "code",
   "execution_count": 7,
   "id": "4ffb3421",
   "metadata": {
    "ExecuteTime": {
     "end_time": "2024-02-13T09:40:26.256389Z",
     "start_time": "2024-02-13T09:40:26.232305Z"
    },
    "scrolled": true
   },
   "outputs": [
    {
     "name": "stdout",
     "output_type": "stream",
     "text": [
      "(4898, 12)\n",
      "6    2198\n",
      "5    1457\n",
      "7     880\n",
      "8     175\n",
      "4     163\n",
      "3      20\n",
      "9       5\n",
      "Name: quality, dtype: int64\n"
     ]
    },
    {
     "data": {
      "text/html": [
       "<div>\n",
       "<style scoped>\n",
       "    .dataframe tbody tr th:only-of-type {\n",
       "        vertical-align: middle;\n",
       "    }\n",
       "\n",
       "    .dataframe tbody tr th {\n",
       "        vertical-align: top;\n",
       "    }\n",
       "\n",
       "    .dataframe thead th {\n",
       "        text-align: right;\n",
       "    }\n",
       "</style>\n",
       "<table border=\"1\" class=\"dataframe\">\n",
       "  <thead>\n",
       "    <tr style=\"text-align: right;\">\n",
       "      <th></th>\n",
       "      <th>fixed acidity</th>\n",
       "      <th>volatile acidity</th>\n",
       "      <th>citric acid</th>\n",
       "      <th>residual sugar</th>\n",
       "      <th>chlorides</th>\n",
       "      <th>free sulfur dioxide</th>\n",
       "      <th>total sulfur dioxide</th>\n",
       "      <th>density</th>\n",
       "      <th>pH</th>\n",
       "      <th>sulphates</th>\n",
       "      <th>alcohol</th>\n",
       "      <th>quality</th>\n",
       "    </tr>\n",
       "  </thead>\n",
       "  <tbody>\n",
       "    <tr>\n",
       "      <th>0</th>\n",
       "      <td>7.0</td>\n",
       "      <td>0.27</td>\n",
       "      <td>0.36</td>\n",
       "      <td>20.7</td>\n",
       "      <td>0.045</td>\n",
       "      <td>45.0</td>\n",
       "      <td>170.0</td>\n",
       "      <td>1.0010</td>\n",
       "      <td>3.00</td>\n",
       "      <td>0.45</td>\n",
       "      <td>8.8</td>\n",
       "      <td>6</td>\n",
       "    </tr>\n",
       "    <tr>\n",
       "      <th>1</th>\n",
       "      <td>6.3</td>\n",
       "      <td>0.30</td>\n",
       "      <td>0.34</td>\n",
       "      <td>1.6</td>\n",
       "      <td>0.049</td>\n",
       "      <td>14.0</td>\n",
       "      <td>132.0</td>\n",
       "      <td>0.9940</td>\n",
       "      <td>3.30</td>\n",
       "      <td>0.49</td>\n",
       "      <td>9.5</td>\n",
       "      <td>6</td>\n",
       "    </tr>\n",
       "    <tr>\n",
       "      <th>2</th>\n",
       "      <td>8.1</td>\n",
       "      <td>0.28</td>\n",
       "      <td>0.40</td>\n",
       "      <td>6.9</td>\n",
       "      <td>0.050</td>\n",
       "      <td>30.0</td>\n",
       "      <td>97.0</td>\n",
       "      <td>0.9951</td>\n",
       "      <td>3.26</td>\n",
       "      <td>0.44</td>\n",
       "      <td>10.1</td>\n",
       "      <td>6</td>\n",
       "    </tr>\n",
       "    <tr>\n",
       "      <th>3</th>\n",
       "      <td>7.2</td>\n",
       "      <td>0.23</td>\n",
       "      <td>0.32</td>\n",
       "      <td>8.5</td>\n",
       "      <td>0.058</td>\n",
       "      <td>47.0</td>\n",
       "      <td>186.0</td>\n",
       "      <td>0.9956</td>\n",
       "      <td>3.19</td>\n",
       "      <td>0.40</td>\n",
       "      <td>9.9</td>\n",
       "      <td>6</td>\n",
       "    </tr>\n",
       "    <tr>\n",
       "      <th>4</th>\n",
       "      <td>7.2</td>\n",
       "      <td>0.23</td>\n",
       "      <td>0.32</td>\n",
       "      <td>8.5</td>\n",
       "      <td>0.058</td>\n",
       "      <td>47.0</td>\n",
       "      <td>186.0</td>\n",
       "      <td>0.9956</td>\n",
       "      <td>3.19</td>\n",
       "      <td>0.40</td>\n",
       "      <td>9.9</td>\n",
       "      <td>6</td>\n",
       "    </tr>\n",
       "  </tbody>\n",
       "</table>\n",
       "</div>"
      ],
      "text/plain": [
       "   fixed acidity  volatile acidity  citric acid  residual sugar  chlorides  \\\n",
       "0            7.0              0.27         0.36            20.7      0.045   \n",
       "1            6.3              0.30         0.34             1.6      0.049   \n",
       "2            8.1              0.28         0.40             6.9      0.050   \n",
       "3            7.2              0.23         0.32             8.5      0.058   \n",
       "4            7.2              0.23         0.32             8.5      0.058   \n",
       "\n",
       "   free sulfur dioxide  total sulfur dioxide  density    pH  sulphates  \\\n",
       "0                 45.0                 170.0   1.0010  3.00       0.45   \n",
       "1                 14.0                 132.0   0.9940  3.30       0.49   \n",
       "2                 30.0                  97.0   0.9951  3.26       0.44   \n",
       "3                 47.0                 186.0   0.9956  3.19       0.40   \n",
       "4                 47.0                 186.0   0.9956  3.19       0.40   \n",
       "\n",
       "   alcohol  quality  \n",
       "0      8.8        6  \n",
       "1      9.5        6  \n",
       "2     10.1        6  \n",
       "3      9.9        6  \n",
       "4      9.9        6  "
      ]
     },
     "execution_count": 7,
     "metadata": {},
     "output_type": "execute_result"
    }
   ],
   "source": [
    "df = pd.read_csv('../data/winequality-white.csv', sep=';')\n",
    "print(df.shape)\n",
    "print(df['quality'].value_counts())\n",
    "df.head()"
   ]
  },
  {
   "cell_type": "code",
   "execution_count": 10,
   "id": "4bafa73c",
   "metadata": {
    "ExecuteTime": {
     "end_time": "2024-02-13T09:41:31.828856Z",
     "start_time": "2024-02-13T09:41:31.825174Z"
    }
   },
   "outputs": [],
   "source": [
    "X = df.iloc[:, :-1]\n",
    "y = df.iloc[:, -1]"
   ]
  },
  {
   "cell_type": "markdown",
   "id": "85a73aa1",
   "metadata": {},
   "source": [
    "## sklearn machine learning models"
   ]
  },
  {
   "cell_type": "markdown",
   "id": "734ff854",
   "metadata": {},
   "source": [
    "- Machine Learning algo like Random Forest\n",
    "- RepeatedStratifiedKFold\n",
    "- cross val score\n",
    "- n_jobs: Specify the number of cores to use for key machine learning tasks."
   ]
  },
  {
   "cell_type": "code",
   "execution_count": 11,
   "id": "dd698d78",
   "metadata": {
    "ExecuteTime": {
     "end_time": "2024-02-13T09:42:41.950990Z",
     "start_time": "2024-02-13T09:42:32.827468Z"
    }
   },
   "outputs": [],
   "source": [
    "from time import time\n",
    "from sklearn.model_selection import RepeatedStratifiedKFold\n",
    "from sklearn.ensemble import RandomForestClassifier\n",
    "from sklearn.model_selection import cross_val_score"
   ]
  },
  {
   "cell_type": "code",
   "execution_count": 20,
   "id": "d2cc0060",
   "metadata": {
    "ExecuteTime": {
     "end_time": "2024-02-13T09:49:14.341983Z",
     "start_time": "2024-02-13T09:49:14.326913Z"
    }
   },
   "outputs": [],
   "source": [
    "cross_val_score??"
   ]
  },
  {
   "cell_type": "markdown",
   "id": "feeae505",
   "metadata": {},
   "source": [
    "### single core"
   ]
  },
  {
   "cell_type": "code",
   "execution_count": 12,
   "id": "6ac212bd",
   "metadata": {
    "ExecuteTime": {
     "end_time": "2024-02-13T09:44:08.551683Z",
     "start_time": "2024-02-13T09:43:58.883338Z"
    }
   },
   "outputs": [
    {
     "name": "stdout",
     "output_type": "stream",
     "text": [
      "9.664299964904785\n"
     ]
    }
   ],
   "source": [
    "## CPU cores we use n_jobs\n",
    "model = RandomForestClassifier(n_estimators=100)\n",
    "# define the evaluation procedure\n",
    "cv = RepeatedStratifiedKFold(n_splits=5, n_repeats=3, random_state=4)\n",
    "t0 = time()\n",
    "n_scores = cross_val_score(model, X, y, scoring='accuracy', cv=cv, n_jobs=1)\n",
    "print(time() - t0)"
   ]
  },
  {
   "cell_type": "markdown",
   "id": "eb16bfe5",
   "metadata": {},
   "source": [
    "### cores"
   ]
  },
  {
   "cell_type": "code",
   "execution_count": 13,
   "id": "e46772c7",
   "metadata": {
    "ExecuteTime": {
     "end_time": "2024-02-13T09:44:38.159115Z",
     "start_time": "2024-02-13T09:44:30.011738Z"
    }
   },
   "outputs": [
    {
     "name": "stdout",
     "output_type": "stream",
     "text": [
      "8.142606019973755\n"
     ]
    }
   ],
   "source": [
    "## CPU cores we use n_jobs\n",
    "model = RandomForestClassifier(n_estimators=100)\n",
    "# define the evaluation procedure\n",
    "cv = RepeatedStratifiedKFold(n_splits=5, n_repeats=3, random_state=4)\n",
    "t0 = time()\n",
    "n_scores = cross_val_score(model, X, y, scoring='accuracy', cv=cv, n_jobs=2)\n",
    "print(time() - t0)"
   ]
  },
  {
   "cell_type": "code",
   "execution_count": 24,
   "id": "3a65518a",
   "metadata": {
    "ExecuteTime": {
     "end_time": "2024-02-13T09:53:40.287911Z",
     "start_time": "2024-02-13T09:53:33.001905Z"
    }
   },
   "outputs": [
    {
     "name": "stdout",
     "output_type": "stream",
     "text": [
      "7.280850887298584 15\n"
     ]
    }
   ],
   "source": [
    "## CPU cores we use n_jobs\n",
    "model = RandomForestClassifier(n_estimators=100)\n",
    "# define the evaluation procedure\n",
    "cv = RepeatedStratifiedKFold(n_splits=5, n_repeats=3, random_state=4)\n",
    "t0 = time()\n",
    "n_scores = cross_val_score(model, X, y, scoring='accuracy', cv=cv, n_jobs=4)\n",
    "print(time() - t0, len(n_scores))"
   ]
  },
  {
   "cell_type": "markdown",
   "id": "8eb5b382",
   "metadata": {},
   "source": [
    "### all cores"
   ]
  },
  {
   "cell_type": "code",
   "execution_count": 23,
   "id": "4a43e23e",
   "metadata": {
    "ExecuteTime": {
     "end_time": "2024-02-13T09:53:27.772552Z",
     "start_time": "2024-02-13T09:53:25.432943Z"
    }
   },
   "outputs": [
    {
     "name": "stdout",
     "output_type": "stream",
     "text": [
      "2.335475206375122 15\n"
     ]
    }
   ],
   "source": [
    "## CPU cores we use n_jobs\n",
    "model = RandomForestClassifier(n_estimators=100)\n",
    "# define the evaluation procedure\n",
    "cv = RepeatedStratifiedKFold(n_splits=5, n_repeats=3, random_state=4)\n",
    "t0 = time()\n",
    "n_scores = cross_val_score(model, X, y, scoring='accuracy', cv=cv, n_jobs=-1)\n",
    "\n",
    "print(time() - t0, len(n_scores))"
   ]
  },
  {
   "cell_type": "code",
   "execution_count": 31,
   "id": "076e438f",
   "metadata": {
    "ExecuteTime": {
     "end_time": "2024-02-13T10:18:05.339399Z",
     "start_time": "2024-02-13T10:18:05.333800Z"
    }
   },
   "outputs": [
    {
     "data": {
      "text/plain": [
       "array([ 1,  3,  5,  7,  9, 11])"
      ]
     },
     "execution_count": 31,
     "metadata": {},
     "output_type": "execute_result"
    }
   ],
   "source": [
    "np.arange(1, 12, step=2)"
   ]
  },
  {
   "cell_type": "code",
   "execution_count": 32,
   "id": "9b7e459d",
   "metadata": {
    "ExecuteTime": {
     "end_time": "2024-02-13T10:18:46.617831Z",
     "start_time": "2024-02-13T10:18:08.387248Z"
    }
   },
   "outputs": [],
   "source": [
    "all_jobs = os.cpu_count()\n",
    "xs, ys = [], []\n",
    "for i in np.arange(1, all_jobs, step=2):\n",
    "    ## CPU cores we use n_jobs\n",
    "    model = RandomForestClassifier(n_estimators=100)\n",
    "    # define the evaluation procedure\n",
    "    cv = RepeatedStratifiedKFold(n_splits=5, n_repeats=3, random_state=4)\n",
    "    t0 = time()\n",
    "    n_scores = cross_val_score(model, X, y, scoring='accuracy', cv=cv, n_jobs=i)\n",
    "\n",
    "    xs.append(i)\n",
    "    ys.append(time()-t0)"
   ]
  },
  {
   "cell_type": "code",
   "execution_count": 33,
   "id": "b7cf5199",
   "metadata": {
    "ExecuteTime": {
     "end_time": "2024-02-13T10:18:51.127538Z",
     "start_time": "2024-02-13T10:18:48.898070Z"
    }
   },
   "outputs": [
    {
     "data": {
      "text/plain": [
       "[<matplotlib.lines.Line2D at 0x7f9e989333d0>]"
      ]
     },
     "execution_count": 33,
     "metadata": {},
     "output_type": "execute_result"
    },
    {
     "data": {
      "image/png": "[encoded data removed]",
      "text/plain": [
       "<Figure size 640x480 with 1 Axes>"
      ]
     },
     "metadata": {},
     "output_type": "display_data"
    }
   ],
   "source": [
    "import matplotlib.pyplot as plt\n",
    "plt.plot(xs, ys)"
   ]
  },
  {
   "cell_type": "code",
   "execution_count": null,
   "id": "4aa250d2",
   "metadata": {},
   "outputs": [],
   "source": []
  }
 ],
 "metadata": {
  "kernelspec": {
   "display_name": "Python 3 (ipykernel)",
   "language": "python",
   "name": "python3"
  },
  "language_info": {
   "codemirror_mode": {
    "name": "ipython",
    "version": 3
   },
   "file_extension": ".py",
   "mimetype": "text/x-python",
   "name": "python",
   "nbconvert_exporter": "python",
   "pygments_lexer": "ipython3",
   "version": "3.9.13"
  },
  "toc": {
   "base_numbering": 1,
   "nav_menu": {},
   "number_sections": true,
   "sideBar": true,
   "skip_h1_title": false,
   "title_cell": "Table of Contents",
   "title_sidebar": "Contents",
   "toc_cell": false,
   "toc_position": {},
   "toc_section_display": true,
   "toc_window_display": false
  }
 },
 "nbformat": 4,
 "nbformat_minor": 5
}
