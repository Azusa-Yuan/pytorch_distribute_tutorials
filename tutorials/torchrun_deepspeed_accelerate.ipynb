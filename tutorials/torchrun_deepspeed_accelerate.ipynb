{
 "cells": [
  {
   "cell_type": "markdown",
   "id": "3b24f99a",
   "metadata": {},
   "source": [
    "```\n",
    "deepspeed --num_gpus 2 --num_nodes 1 torch_nccl_test.py\n",
    "\n",
    "torchrun --nproc_per_node 2 --nnodes 1 torch_nccl_test.py\n",
    "\n",
    "torchrun --nproc_per_node 1 example_chat_completion.py \\\n",
    "    --ckpt_dir llama-2-7b-chat/ \\\n",
    "    --tokenizer_path tokenizer.model \\\n",
    "    --max_seq_len 512 --max_batch_size 6\n",
    "\n",
    "```"
   ]
  },
  {
   "cell_type": "markdown",
   "id": "5519dd6b",
   "metadata": {},
   "source": [
    "- torchrun：以前称为 `torch.distributed.launch`\n",
    "    - 与直接使用python执行脚本相比，torchrun自动处理多进程的初始化和配置，使得在分布式设置中运行脚本更加容易。它主要用于利用PyTorch的分布式包torch.distributed进行训练。\n",
    "- deepspeed 是一个深度学习优化库，\n",
    "- accelerate 是由Hugging Face提供的一个库"
   ]
  }
 ],
 "metadata": {
  "kernelspec": {
   "display_name": "Python 3 (ipykernel)",
   "language": "python",
   "name": "python3"
  },
  "language_info": {
   "codemirror_mode": {
    "name": "ipython",
    "version": 3
   },
   "file_extension": ".py",
   "mimetype": "text/x-python",
   "name": "python",
   "nbconvert_exporter": "python",
   "pygments_lexer": "ipython3",
   "version": "3.10.13"
  },
  "toc": {
   "base_numbering": 1,
   "nav_menu": {},
   "number_sections": true,
   "sideBar": true,
   "skip_h1_title": false,
   "title_cell": "Table of Contents",
   "title_sidebar": "Contents",
   "toc_cell": false,
   "toc_position": {},
   "toc_section_display": true,
   "toc_window_display": false
  }
 },
 "nbformat": 4,
 "nbformat_minor": 5
}
