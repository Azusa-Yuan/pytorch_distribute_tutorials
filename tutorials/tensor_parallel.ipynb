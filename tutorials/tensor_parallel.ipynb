{
 "cells": [
  {
   "cell_type": "markdown",
   "id": "f8389ebe",
   "metadata": {},
   "source": [
    "- tensor parallel\n",
    "    - 一种特殊的模型并行（model parallel）\n",
    "    - https://www.mishalaskin.com/posts/tensor_parallel\n",
    "- 验证两个事情\n",
    "    - 前向相等性\n",
    "    - 反向传播相等性"
   ]
  }
 ],
 "metadata": {
  "kernelspec": {
   "display_name": "Python 3 (ipykernel)",
   "language": "python",
   "name": "python3"
  },
  "language_info": {
   "codemirror_mode": {
    "name": "ipython",
    "version": 3
   },
   "file_extension": ".py",
   "mimetype": "text/x-python",
   "name": "python",
   "nbconvert_exporter": "python",
   "pygments_lexer": "ipython3",
   "version": "3.10.9"
  },
  "toc": {
   "base_numbering": 1,
   "nav_menu": {},
   "number_sections": true,
   "sideBar": true,
   "skip_h1_title": false,
   "title_cell": "Table of Contents",
   "title_sidebar": "Contents",
   "toc_cell": false,
   "toc_position": {},
   "toc_section_display": true,
   "toc_window_display": false
  }
 },
 "nbformat": 4,
 "nbformat_minor": 5
}
