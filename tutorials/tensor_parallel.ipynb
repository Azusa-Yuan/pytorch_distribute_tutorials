{
 "cells": [
  {
   "cell_type": "code",
   "execution_count": 5,
   "id": "037dc90e",
   "metadata": {
    "ExecuteTime": {
     "end_time": "2023-06-11T14:00:33.324869Z",
     "start_time": "2023-06-11T14:00:33.318718Z"
    }
   },
   "outputs": [],
   "source": [
    "from IPython.display import Image"
   ]
  },
  {
   "cell_type": "code",
   "execution_count": 10,
   "id": "4e414d25",
   "metadata": {
    "ExecuteTime": {
     "end_time": "2023-10-29T12:30:26.840403Z",
     "start_time": "2023-10-29T12:30:26.834776Z"
    }
   },
   "outputs": [],
   "source": [
    "import numpy\n",
    "import torch\n",
    "import torch.nn as nn"
   ]
  },
  {
   "cell_type": "markdown",
   "id": "f8389ebe",
   "metadata": {},
   "source": [
    "- tensor parallel\n",
    "    - 一种特殊的模型并行（model parallel）\n",
    "    - https://arxiv.org/abs/1909.08053（Megatron）\n",
    "    - https://www.deepspeed.ai/tutorials/automatic-tensor-parallelism/\n",
    "- 数学上：矩阵分块\n",
    "- 验证两个事情\n",
    "    - 前向相等性\n",
    "    - 反向传播相等性\n"
   ]
  },
  {
   "cell_type": "markdown",
   "id": "45c5aa6f",
   "metadata": {},
   "source": [
    "## 一个例子"
   ]
  },
  {
   "cell_type": "code",
   "execution_count": 7,
   "id": "196567f4",
   "metadata": {
    "ExecuteTime": {
     "end_time": "2023-06-11T14:00:50.084632Z",
     "start_time": "2023-06-11T14:00:50.075146Z"
    }
   },
   "outputs": [
    {
     "data": {
      "image/png": "[encoded data removed]",
      "text/plain": [
       "<IPython.core.display.Image object>"
      ]
     },
     "execution_count": 7,
     "metadata": {
      "image/png": {
       "width": 600
      }
     },
     "output_type": "execute_result"
    }
   ],
   "source": [
    "Image('../imgs/split_two_layer_mlp.png', width=600)"
   ]
  },
  {
   "cell_type": "markdown",
   "id": "e9492b4b",
   "metadata": {},
   "source": [
    "- $A=\\begin{bmatrix} A_1, A_2\\end{bmatrix}$：按列分块（column-wise splits）\n",
    "    - $A\\in \\mathbb R^{200\\times 300}$\n",
    "    - $A_i\\in \\mathbb R^{200\\times 150}$\n",
    "- $B=\\begin{bmatrix} B_1\\\\B_2\\end{bmatrix}$：按行分块（row-wise splits）\n",
    "    - $B\\in \\mathbb R^{300\\times 400}$\n",
    "    - $B_j\\in \\mathbb R^{150\\times 400}$\n",
    "- $f(\\cdot)$ 的操作是 element-wise 的，其实就是激活函数（比如 `tanh`）\n",
    "    - $A$ 的列数 = $B$ 的行数\n",
    "    - $A_i$ 的列数 = $B_j$ 的函数"
   ]
  },
  {
   "cell_type": "markdown",
   "id": "f421a02b",
   "metadata": {},
   "source": [
    "$$\n",
    "\\begin{split}\n",
    "f(X\\cdot A)\\cdot B&=f\\left(X\\begin{bmatrix}A_1,A_2\\end{bmatrix}\\right)\\cdot\\begin{bmatrix}B_1\\\\B_2\\end{bmatrix}\\\\\n",
    "&=\\begin{bmatrix}f(XA_1),f(XA_2)\\end{bmatrix}\\cdot\\begin{bmatrix}B_1\\\\B_2\\end{bmatrix}\\\\\n",
    "&=f(XA_1)\\cdot B_1+f(XA_2)\\cdot B_2\n",
    "\\end{split}\n",
    "$$"
   ]
  },
  {
   "cell_type": "code",
   "execution_count": 1,
   "id": "e618d1c7",
   "metadata": {
    "ExecuteTime": {
     "end_time": "2023-06-11T13:56:00.211011Z",
     "start_time": "2023-06-11T13:56:00.066006Z"
    }
   },
   "outputs": [],
   "source": [
    "import numpy as np"
   ]
  },
  {
   "cell_type": "code",
   "execution_count": 8,
   "id": "96fd056e",
   "metadata": {
    "ExecuteTime": {
     "end_time": "2023-06-11T14:16:19.863567Z",
     "start_time": "2023-06-11T14:16:19.840226Z"
    }
   },
   "outputs": [],
   "source": [
    "X = np.random.randn(100, 200)\n",
    "A = np.random.randn(200, 300)\n",
    "# XA = 100*300\n",
    "B = np.random.randn(300, 400)"
   ]
  },
  {
   "cell_type": "markdown",
   "id": "39c8c6d2",
   "metadata": {},
   "source": [
    "## 前向相等性"
   ]
  },
  {
   "cell_type": "code",
   "execution_count": 9,
   "id": "716d1f42",
   "metadata": {
    "ExecuteTime": {
     "end_time": "2023-06-11T14:16:51.786901Z",
     "start_time": "2023-06-11T14:16:51.779817Z"
    }
   },
   "outputs": [],
   "source": [
    "def split_columnwise(A, num_splits):\n",
    "    return np.split(A, num_splits, axis=1)\n",
    " \n",
    "def split_rowwise(A, num_splits):\n",
    "    return np.split(A, num_splits, axis=0)"
   ]
  },
  {
   "cell_type": "code",
   "execution_count": 10,
   "id": "1290948c",
   "metadata": {
    "ExecuteTime": {
     "end_time": "2023-06-11T14:17:45.496773Z",
     "start_time": "2023-06-11T14:17:45.488658Z"
    }
   },
   "outputs": [],
   "source": [
    "def normal_forward_pass(X, A, B, f):\n",
    "    Y = f(np.dot(X, A))\n",
    "    Z = np.dot(Y, B)\n",
    "    return Z"
   ]
  },
  {
   "cell_type": "code",
   "execution_count": 18,
   "id": "2b9559f5",
   "metadata": {
    "ExecuteTime": {
     "end_time": "2023-06-11T14:19:59.699808Z",
     "start_time": "2023-06-11T14:19:59.690194Z"
    }
   },
   "outputs": [],
   "source": [
    "def tensor_parallel_forward_pass(X, A, B, f):\n",
    "    A1, A2 = split_columnwise(A, 2)\n",
    "    B1, B2 = split_rowwise(B, 2)\n",
    "    Y1 = f(np.dot(X, A1))\n",
    "    Y2 = f(np.dot(X, A2))\n",
    "    Z1 = np.dot(Y1, B1)\n",
    "    Z2 = np.dot(Y2, B2)\n",
    "#     Z = np.sum([Z1, Z2], axis=0)\n",
    "    Z = Z1+Z2\n",
    "    return Z"
   ]
  },
  {
   "cell_type": "code",
   "execution_count": 19,
   "id": "ebf56ab6",
   "metadata": {
    "ExecuteTime": {
     "end_time": "2023-06-11T14:20:01.259361Z",
     "start_time": "2023-06-11T14:20:01.251317Z"
    }
   },
   "outputs": [],
   "source": [
    "Z_normal = normal_forward_pass(X, A, B, np.tanh)\n",
    "Z_tensor = tensor_parallel_forward_pass(X, A, B, np.tanh)"
   ]
  },
  {
   "cell_type": "code",
   "execution_count": 21,
   "id": "f241a28e",
   "metadata": {
    "ExecuteTime": {
     "end_time": "2023-06-11T14:28:45.574997Z",
     "start_time": "2023-06-11T14:28:45.565674Z"
    }
   },
   "outputs": [
    {
     "data": {
      "text/plain": [
       "(100, 400)"
      ]
     },
     "execution_count": 21,
     "metadata": {},
     "output_type": "execute_result"
    }
   ],
   "source": [
    "Z_tensor.shape"
   ]
  },
  {
   "cell_type": "code",
   "execution_count": 20,
   "id": "cb14f84e",
   "metadata": {
    "ExecuteTime": {
     "end_time": "2023-06-11T14:20:02.324077Z",
     "start_time": "2023-06-11T14:20:02.314550Z"
    },
    "scrolled": true
   },
   "outputs": [
    {
     "data": {
      "text/plain": [
       "True"
      ]
     },
     "execution_count": 20,
     "metadata": {},
     "output_type": "execute_result"
    }
   ],
   "source": [
    "np.allclose(Z_normal, Z_tensor)"
   ]
  },
  {
   "cell_type": "markdown",
   "id": "b03967fd",
   "metadata": {},
   "source": [
    "### FFN"
   ]
  },
  {
   "cell_type": "markdown",
   "id": "28e6fe5c",
   "metadata": {},
   "source": [
    "- h -> 4h\n",
    "- 4h -> h"
   ]
  },
  {
   "cell_type": "markdown",
   "id": "9e398968",
   "metadata": {},
   "source": [
    "### ffn of bert"
   ]
  },
  {
   "cell_type": "code",
   "execution_count": 1,
   "id": "4eb59217",
   "metadata": {
    "ExecuteTime": {
     "end_time": "2023-10-29T12:24:43.373514Z",
     "start_time": "2023-10-29T12:24:43.269699Z"
    }
   },
   "outputs": [],
   "source": [
    "from transformers import AutoModel"
   ]
  },
  {
   "cell_type": "code",
   "execution_count": 3,
   "id": "e232d82c",
   "metadata": {
    "ExecuteTime": {
     "end_time": "2023-10-29T12:26:09.074510Z",
     "start_time": "2023-10-29T12:26:09.069636Z"
    }
   },
   "outputs": [],
   "source": [
    "import os\n",
    "os.environ[\"http_proxy\"] = \"http://127.0.0.1:7890\"\n",
    "os.environ[\"https_proxy\"] = \"http://127.0.0.1:7890\""
   ]
  },
  {
   "cell_type": "code",
   "execution_count": 4,
   "id": "dcef368b",
   "metadata": {
    "ExecuteTime": {
     "end_time": "2023-10-29T12:26:43.639647Z",
     "start_time": "2023-10-29T12:26:10.363060Z"
    }
   },
   "outputs": [
    {
     "data": {
      "application/vnd.jupyter.widget-view+json": {
       "model_id": "195a09c8bb5f431984418f7a4be3e268",
       "version_major": 2,
       "version_minor": 0
      },
      "text/plain": [
       "Downloading (…)lve/main/config.json:   0%|          | 0.00/570 [00:00<?, ?B/s]"
      ]
     },
     "metadata": {},
     "output_type": "display_data"
    },
    {
     "data": {
      "application/vnd.jupyter.widget-view+json": {
       "model_id": "4198ed6667f542a3ae6d58bf99d42773",
       "version_major": 2,
       "version_minor": 0
      },
      "text/plain": [
       "Downloading model.safetensors:   0%|          | 0.00/440M [00:00<?, ?B/s]"
      ]
     },
     "metadata": {},
     "output_type": "display_data"
    }
   ],
   "source": [
    "bert = AutoModel.from_pretrained('bert-base-uncased')"
   ]
  },
  {
   "cell_type": "code",
   "execution_count": 8,
   "id": "85fa764a",
   "metadata": {
    "ExecuteTime": {
     "end_time": "2023-10-29T12:27:23.700278Z",
     "start_time": "2023-10-29T12:27:23.689835Z"
    }
   },
   "outputs": [
    {
     "data": {
      "text/plain": [
       "BertIntermediate(\n",
       "  (dense): Linear(in_features=768, out_features=3072, bias=True)\n",
       "  (intermediate_act_fn): GELUActivation()\n",
       ")"
      ]
     },
     "execution_count": 8,
     "metadata": {},
     "output_type": "execute_result"
    }
   ],
   "source": [
    "# h => 4h\n",
    "bert.encoder.layer[0].intermediate"
   ]
  },
  {
   "cell_type": "code",
   "execution_count": 9,
   "id": "2d1fdd0d",
   "metadata": {
    "ExecuteTime": {
     "end_time": "2023-10-29T12:27:32.142169Z",
     "start_time": "2023-10-29T12:27:32.137789Z"
    }
   },
   "outputs": [
    {
     "data": {
      "text/plain": [
       "BertOutput(\n",
       "  (dense): Linear(in_features=3072, out_features=768, bias=True)\n",
       "  (LayerNorm): LayerNorm((768,), eps=1e-12, elementwise_affine=True)\n",
       "  (dropout): Dropout(p=0.1, inplace=False)\n",
       ")"
      ]
     },
     "execution_count": 9,
     "metadata": {},
     "output_type": "execute_result"
    }
   ],
   "source": [
    "# 4h -> h\n",
    "bert.encoder.layer[0].output"
   ]
  },
  {
   "cell_type": "markdown",
   "id": "8e5405bb",
   "metadata": {},
   "source": [
    "### ffn cases"
   ]
  },
  {
   "cell_type": "markdown",
   "id": "22a7284f",
   "metadata": {},
   "source": [
    "$$\n",
    "\\begin{split}\n",
    "(X\\cdot W_1)\\cdot W_2&=\\left(X\\cdot \\begin{bmatrix}W_{11}, W_{12} \\end{bmatrix}\\right)\\cdot \\begin{bmatrix}W_{21}\\\\W_{22}\\end{bmatrix}\\\\\n",
    "&=\\begin{bmatrix}X\\cdot W_{11}, X\\cdot W_{12}\\end{bmatrix}\\cdot \\begin{bmatrix}W_{21}\\\\W_{22}\\end{bmatrix}\\\\\n",
    "&=(X\\cdot W_{11})W_{21}+(X\\cdot W_{12})W_{22}\n",
    "\\end{split}\n",
    "$$\n",
    "\n",
    "- X: (1, 5, 10)\n",
    "- W1: (10, 40), h->4h\n",
    "    - W11: (10, 20), 0:20\n",
    "    - W12: (10, 20), 20:40\n",
    "- W2: (40, 10), 4h->h\n",
    "    - W21: (20, 10), 0:20\n",
    "    - W22: (20, 10), 20:40"
   ]
  },
  {
   "cell_type": "code",
   "execution_count": 11,
   "id": "391126d8",
   "metadata": {
    "ExecuteTime": {
     "end_time": "2023-10-29T12:30:54.905110Z",
     "start_time": "2023-10-29T12:30:54.896831Z"
    }
   },
   "outputs": [],
   "source": [
    "input = torch.randn(size=(1, 5, 10), dtype=torch.float32)"
   ]
  },
  {
   "cell_type": "code",
   "execution_count": 13,
   "id": "06ff092f",
   "metadata": {
    "ExecuteTime": {
     "end_time": "2023-10-29T12:31:17.811635Z",
     "start_time": "2023-10-29T12:31:17.800937Z"
    }
   },
   "outputs": [
    {
     "data": {
      "text/plain": [
       "10"
      ]
     },
     "execution_count": 13,
     "metadata": {},
     "output_type": "execute_result"
    }
   ],
   "source": [
    "embedding_dim = input.size(2)\n",
    "embedding_dim"
   ]
  },
  {
   "cell_type": "code",
   "execution_count": 20,
   "id": "4c18ff29",
   "metadata": {
    "ExecuteTime": {
     "end_time": "2023-10-29T12:38:00.947628Z",
     "start_time": "2023-10-29T12:38:00.935822Z"
    }
   },
   "outputs": [
    {
     "data": {
      "text/plain": [
       "torch.Size([1, 5, 40])"
      ]
     },
     "execution_count": 20,
     "metadata": {},
     "output_type": "execute_result"
    }
   ],
   "source": [
    "dense_h_to_4h = nn.Linear(embedding_dim, embedding_dim*4, bias=False)\n",
    "# (1, 5, 10) -> (1, 5, 40)\n",
    "output1 = dense_h_to_4h(input)\n",
    "output1.shape"
   ]
  },
  {
   "cell_type": "code",
   "execution_count": 21,
   "id": "25976f42",
   "metadata": {
    "ExecuteTime": {
     "end_time": "2023-10-29T12:38:02.230297Z",
     "start_time": "2023-10-29T12:38:02.217632Z"
    }
   },
   "outputs": [
    {
     "data": {
      "text/plain": [
       "torch.Size([1, 5, 10])"
      ]
     },
     "execution_count": 21,
     "metadata": {},
     "output_type": "execute_result"
    }
   ],
   "source": [
    "dense_4h_to_h = nn.Linear(embedding_dim*4, embedding_dim, bias=False)\n",
    "# (1, 5, 40) -> (1, 5, 10)\n",
    "output2 = dense_4h_to_h(output1)\n",
    "output2.shape"
   ]
  },
  {
   "cell_type": "code",
   "execution_count": 28,
   "id": "3ae9c4b8",
   "metadata": {
    "ExecuteTime": {
     "end_time": "2023-10-29T12:44:17.964326Z",
     "start_time": "2023-10-29T12:44:17.957714Z"
    }
   },
   "outputs": [],
   "source": [
    "n_devices = 2\n",
    "half_4h = embedding_dim*4//n_devices"
   ]
  },
  {
   "cell_type": "code",
   "execution_count": 32,
   "id": "ac3d6727",
   "metadata": {
    "ExecuteTime": {
     "end_time": "2023-10-29T12:45:06.376671Z",
     "start_time": "2023-10-29T12:45:06.363055Z"
    }
   },
   "outputs": [
    {
     "data": {
      "text/plain": [
       "torch.Size([1, 5, 20])"
      ]
     },
     "execution_count": 32,
     "metadata": {},
     "output_type": "execute_result"
    }
   ],
   "source": [
    "# (1, 5, 10) -> (1, 5, 20)\n",
    "dense_h_to_4h_parallel = nn.Linear(embedding_dim, half_4h, bias=False)\n",
    "dense_h_to_4h_parallel.weight.data = dense_h_to_4h.weight[:half_4h, :]\n",
    "first_h_to_4h = dense_h_to_4h_parallel(input)\n",
    "first_h_to_4h.shape"
   ]
  },
  {
   "cell_type": "code",
   "execution_count": 33,
   "id": "c29f17f8",
   "metadata": {
    "ExecuteTime": {
     "end_time": "2023-10-29T12:45:55.203398Z",
     "start_time": "2023-10-29T12:45:55.189305Z"
    }
   },
   "outputs": [
    {
     "data": {
      "text/plain": [
       "torch.Size([1, 5, 20])"
      ]
     },
     "execution_count": 33,
     "metadata": {},
     "output_type": "execute_result"
    }
   ],
   "source": [
    "# (1, 5, 10) -> (1, 5, 20)\n",
    "dense_h_to_4h_parallel = nn.Linear(embedding_dim, half_4h, bias=False)\n",
    "dense_h_to_4h_parallel.weight.data = dense_h_to_4h.weight[half_4h:, :]\n",
    "second_h_to_4h = dense_h_to_4h_parallel(input)\n",
    "second_h_to_4h.shape"
   ]
  },
  {
   "cell_type": "code",
   "execution_count": 35,
   "id": "7dd028de",
   "metadata": {
    "ExecuteTime": {
     "end_time": "2023-10-29T13:02:21.839058Z",
     "start_time": "2023-10-29T13:02:21.826532Z"
    }
   },
   "outputs": [
    {
     "data": {
      "text/plain": [
       "torch.Size([1, 5, 10])"
      ]
     },
     "execution_count": 35,
     "metadata": {},
     "output_type": "execute_result"
    }
   ],
   "source": [
    "dense_4h_to_h_parallel = nn.Linear(half_4h, embedding_dim, bias=False)\n",
    "dense_4h_to_h_parallel.weight.data = dense_4h_to_h.weight[:, :half_4h]\n",
    "first_4h_to_h = dense_4h_to_h_parallel(first_h_to_4h)\n",
    "first_4h_to_h.shape"
   ]
  },
  {
   "cell_type": "code",
   "execution_count": 36,
   "id": "c6057bf5",
   "metadata": {
    "ExecuteTime": {
     "end_time": "2023-10-29T13:02:51.693342Z",
     "start_time": "2023-10-29T13:02:51.678927Z"
    }
   },
   "outputs": [
    {
     "data": {
      "text/plain": [
       "torch.Size([1, 5, 10])"
      ]
     },
     "execution_count": 36,
     "metadata": {},
     "output_type": "execute_result"
    }
   ],
   "source": [
    "dense_4h_to_h_parallel = nn.Linear(half_4h, embedding_dim, bias=False)\n",
    "dense_4h_to_h_parallel.weight.data = dense_4h_to_h.weight[:, half_4h:]\n",
    "second_4h_to_h = dense_4h_to_h_parallel(second_h_to_4h)\n",
    "second_4h_to_h.shape"
   ]
  },
  {
   "cell_type": "code",
   "execution_count": 37,
   "id": "2f791a57",
   "metadata": {
    "ExecuteTime": {
     "end_time": "2023-10-29T13:03:00.133079Z",
     "start_time": "2023-10-29T13:03:00.102026Z"
    }
   },
   "outputs": [
    {
     "data": {
      "text/plain": [
       "tensor([[[ 0.0529, -0.0688, -0.0587,  0.2476,  0.3799,  0.1713, -0.1616,\n",
       "           0.0428, -0.1615,  0.1838],\n",
       "         [ 0.1270, -0.2606,  0.0909, -0.2700, -0.3233, -0.1638, -0.2940,\n",
       "           0.2188,  0.1833,  0.0383],\n",
       "         [ 0.1431, -0.1707,  0.0511, -0.0807, -0.0090, -0.0254, -0.1386,\n",
       "           0.0683, -0.1014,  0.0271],\n",
       "         [-0.6097, -0.4574,  0.3217,  0.4221, -0.0391,  0.2831, -0.0703,\n",
       "          -0.7628, -0.1539,  0.0447],\n",
       "         [ 0.1610,  0.4283, -0.1030,  0.2027,  0.0192,  0.0633, -0.1505,\n",
       "          -0.0723, -0.0075,  0.0093]]], grad_fn=<AddBackward0>)"
      ]
     },
     "execution_count": 37,
     "metadata": {},
     "output_type": "execute_result"
    }
   ],
   "source": [
    "first_4h_to_h + second_4h_to_h"
   ]
  },
  {
   "cell_type": "code",
   "execution_count": 38,
   "id": "0fd4a784",
   "metadata": {
    "ExecuteTime": {
     "end_time": "2023-10-29T13:03:19.131108Z",
     "start_time": "2023-10-29T13:03:19.116745Z"
    }
   },
   "outputs": [
    {
     "data": {
      "text/plain": [
       "tensor([[[ 0.0529, -0.0688, -0.0587,  0.2476,  0.3799,  0.1713, -0.1616,\n",
       "           0.0428, -0.1615,  0.1838],\n",
       "         [ 0.1270, -0.2606,  0.0909, -0.2700, -0.3233, -0.1638, -0.2940,\n",
       "           0.2188,  0.1833,  0.0383],\n",
       "         [ 0.1431, -0.1707,  0.0511, -0.0807, -0.0090, -0.0254, -0.1386,\n",
       "           0.0683, -0.1014,  0.0271],\n",
       "         [-0.6097, -0.4574,  0.3217,  0.4221, -0.0391,  0.2831, -0.0703,\n",
       "          -0.7628, -0.1539,  0.0447],\n",
       "         [ 0.1610,  0.4283, -0.1030,  0.2027,  0.0192,  0.0633, -0.1505,\n",
       "          -0.0723, -0.0075,  0.0093]]], grad_fn=<UnsafeViewBackward0>)"
      ]
     },
     "execution_count": 38,
     "metadata": {},
     "output_type": "execute_result"
    }
   ],
   "source": [
    "output2"
   ]
  }
 ],
 "metadata": {
  "kernelspec": {
   "display_name": "Python 3 (ipykernel)",
   "language": "python",
   "name": "python3"
  },
  "language_info": {
   "codemirror_mode": {
    "name": "ipython",
    "version": 3
   },
   "file_extension": ".py",
   "mimetype": "text/x-python",
   "name": "python",
   "nbconvert_exporter": "python",
   "pygments_lexer": "ipython3",
   "version": "3.10.9"
  },
  "toc": {
   "base_numbering": 1,
   "nav_menu": {},
   "number_sections": true,
   "sideBar": true,
   "skip_h1_title": false,
   "title_cell": "Table of Contents",
   "title_sidebar": "Contents",
   "toc_cell": false,
   "toc_position": {},
   "toc_section_display": true,
   "toc_window_display": false
  }
 },
 "nbformat": 4,
 "nbformat_minor": 5
}
