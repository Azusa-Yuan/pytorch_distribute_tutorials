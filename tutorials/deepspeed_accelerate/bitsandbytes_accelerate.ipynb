{
 "cells": [
  {
   "cell_type": "markdown",
   "id": "9b9505d7",
   "metadata": {},
   "source": [
    "## bitsandbytes"
   ]
  },
  {
   "cell_type": "markdown",
   "id": "87783393",
   "metadata": {},
   "source": [
    "- `load_in_8bit`\n",
    "    - will convert the loaded model into mixed-8bit quantized model. \n",
    "    \n",
    "```\n",
    "for i, para in enumerate(model.named_parameters()):\n",
    "    print(f'{i}, {para[0]}\\t {para[1].dtype}')\n",
    "```"
   ]
  },
  {
   "cell_type": "markdown",
   "id": "ae93532e",
   "metadata": {},
   "source": [
    "### modules"
   ]
  },
  {
   "cell_type": "markdown",
   "id": "431eacaa",
   "metadata": {},
   "source": [
    "`class Linear8bitLt(nn.Linear):`"
   ]
  },
  {
   "cell_type": "markdown",
   "id": "ab0ff9cb",
   "metadata": {},
   "source": [
    "## accelerate"
   ]
  },
  {
   "cell_type": "markdown",
   "id": "6425c8bf",
   "metadata": {},
   "source": [
    "- `get_balanced_memory`\n",
    "\n",
    "```\n",
    "from accelerate.utils import get_balanced_memory\n",
    "```"
   ]
  }
 ],
 "metadata": {
  "kernelspec": {
   "display_name": "Python 3 (ipykernel)",
   "language": "python",
   "name": "python3"
  },
  "language_info": {
   "codemirror_mode": {
    "name": "ipython",
    "version": 3
   },
   "file_extension": ".py",
   "mimetype": "text/x-python",
   "name": "python",
   "nbconvert_exporter": "python",
   "pygments_lexer": "ipython3",
   "version": "3.10.9"
  },
  "toc": {
   "base_numbering": 1,
   "nav_menu": {},
   "number_sections": true,
   "sideBar": true,
   "skip_h1_title": false,
   "title_cell": "Table of Contents",
   "title_sidebar": "Contents",
   "toc_cell": false,
   "toc_position": {},
   "toc_section_display": true,
   "toc_window_display": false
  }
 },
 "nbformat": 4,
 "nbformat_minor": 5
}
