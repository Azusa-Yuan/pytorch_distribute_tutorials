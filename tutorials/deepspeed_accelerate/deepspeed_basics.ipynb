{
 "cells": [
  {
   "cell_type": "markdown",
   "id": "cd4f024b",
   "metadata": {},
   "source": [
    "- references\n",
    "    - https://github.com/microsoft/DeepSpeed\n",
    "        - https://www.microsoft.com/en-us/research/blog/turing-nlg-a-17-billion-parameter-language-model-by-microsoft/\n",
    "    - huggingface DeepSpeed Integration\n",
    "        - https://huggingface.co/docs/transformers/main_classes/deepspeed\n",
    "    - cli\n",
    "        - https://colab.research.google.com/github/stas00/porting/blob/master/transformers/deepspeed/DeepSpeed_on_colab_CLI.ipynb#scrollTo=vSlYvQWLwblN"
   ]
  },
  {
   "cell_type": "code",
   "execution_count": 1,
   "id": "7f796619",
   "metadata": {
    "ExecuteTime": {
     "end_time": "2024-02-24T14:27:54.094771Z",
     "start_time": "2024-02-24T14:27:54.085345Z"
    }
   },
   "outputs": [],
   "source": [
    "from IPython.display import Image"
   ]
  },
  {
   "cell_type": "markdown",
   "id": "5dcf7704",
   "metadata": {},
   "source": [
    "## basics"
   ]
  },
  {
   "cell_type": "markdown",
   "id": "76b8d694",
   "metadata": {},
   "source": [
    "- 三篇论文（**Ze**ro **R**edundancy **O**ptimizer）：\n",
    "    - ZeRO: Memory Optimizations Toward Training Trillion Parameter Models\n",
    "        - https://arxiv.org/abs/1910.02054\n",
    "    - ZeRO-Infinity: Breaking the GPU Memory Wall for Extreme Scale Deep Learning\n",
    "        - https://arxiv.org/abs/2104.07857\n",
    "    - ZeRO-Offload: Democratizing Billion-Scale Model Training\n",
    "        - https://arxiv.org/abs/2101.06840\n",
    "- DeepSpeed\n",
    "    - Optimizer state partitioning (ZeRO stage 1)\n",
    "    - Gradient partitioning (ZeRO stage 2)\n",
    "    - Parameter partitioning (ZeRO stage 3)\n",
    "    - Custom mixed precision training handling\n",
    "    - A range of fast CUDA-extension-based optimizers\n",
    "    - ZeRO-Offload to CPU and NVMe\n",
    "- 安装\n",
    "    - 安装之后的检验，命令行执行 `ds_report`（ds：deepseed）；\n",
    "    - 除此之外还有\n",
    "        - `ds_accelearator`：setting ds_accelerator to cuda (auto_detect)\n",
    "- 其他\n",
    "    - sparse attention：https://www.deepspeed.ai/2020/09/08/sparse-attention.html\n",
    "        - 10x longer seq，up to 6x faster；"
   ]
  },
  {
   "cell_type": "code",
   "execution_count": 3,
   "id": "fdc6aed9",
   "metadata": {
    "ExecuteTime": {
     "end_time": "2023-12-21T12:59:59.206502Z",
     "start_time": "2023-12-21T12:59:59.199710Z"
    }
   },
   "outputs": [],
   "source": [
    "# !ds_report"
   ]
  },
  {
   "cell_type": "markdown",
   "id": "da0ab20c",
   "metadata": {},
   "source": [
    "## os + g + p"
   ]
  },
  {
   "cell_type": "code",
   "execution_count": 3,
   "id": "8b039a2a",
   "metadata": {
    "ExecuteTime": {
     "end_time": "2024-02-24T14:28:07.454709Z",
     "start_time": "2024-02-24T14:28:07.449904Z"
    }
   },
   "outputs": [
    {
     "data": {
      "text/html": [
       "<img src=\"https://www.microsoft.com/en-us/research/uploads/prod/2020/02/DeepSpeed-Image-1.png\" width=\"600\"/>"
      ],
      "text/plain": [
       "<IPython.core.display.Image object>"
      ]
     },
     "execution_count": 3,
     "metadata": {},
     "output_type": "execute_result"
    }
   ],
   "source": [
    "Image(url='https://www.microsoft.com/en-us/research/uploads/prod/2020/02/DeepSpeed-Image-1.png', width=600)"
   ]
  },
  {
   "cell_type": "markdown",
   "id": "08f7231d",
   "metadata": {},
   "source": [
    "- #p == #g"
   ]
  },
  {
   "cell_type": "markdown",
   "id": "4837b942",
   "metadata": {},
   "source": [
    "## examples"
   ]
  },
  {
   "cell_type": "markdown",
   "id": "8094304c",
   "metadata": {},
   "source": [
    "- `git clone https://github.com/huggingface/transformers.git`：源码下载，\n",
    "    - `pip install git+https://github.com/huggingface/transformers.git`: 源码安装"
   ]
  },
  {
   "cell_type": "markdown",
   "id": "b843bdc0",
   "metadata": {},
   "source": [
    "```\n",
    "deepspeed examples/pytorch/translation/run_translation.py \\\n",
    "--deepspeed tests/deepspeed/ds_config_zero3.json \\\n",
    "--model_name_or_path t5-small --per_device_train_batch_size 1 \\\n",
    "--output_dir output_dir --overwrite_output_dir --fp16 \\\n",
    "--do_train --max_train_samples 500 --num_train_epochs 1 \\\n",
    "--dataset_name wmt16 --dataset_config \"ro-en\" \\\n",
    "--source_lang en --target_lang ro\n",
    "```\n",
    "\n",
    "- a key appeal of ZeRO is that **no model code modifications** are required. \n",
    "    -  using ZeRO in a DeepSpeed model is quick and easy because all you need is to change a few configurations in the DeepSpeed configuration JSON. **No code changes are needed.**"
   ]
  },
  {
   "cell_type": "markdown",
   "id": "8f8dc97d",
   "metadata": {},
   "source": [
    "- 启动日志\n",
    "    - `--master_addr=127.0.0.1 --master_port=29500`，默认会占用的端口号\n",
    "        - 程序异常退出时，有可能未释放该端口号；"
   ]
  }
 ],
 "metadata": {
  "kernelspec": {
   "display_name": "Python 3 (ipykernel)",
   "language": "python",
   "name": "python3"
  },
  "language_info": {
   "codemirror_mode": {
    "name": "ipython",
    "version": 3
   },
   "file_extension": ".py",
   "mimetype": "text/x-python",
   "name": "python",
   "nbconvert_exporter": "python",
   "pygments_lexer": "ipython3",
   "version": "3.9.13"
  },
  "toc": {
   "base_numbering": 1,
   "nav_menu": {},
   "number_sections": true,
   "sideBar": true,
   "skip_h1_title": false,
   "title_cell": "Table of Contents",
   "title_sidebar": "Contents",
   "toc_cell": false,
   "toc_position": {},
   "toc_section_display": true,
   "toc_window_display": false
  }
 },
 "nbformat": 4,
 "nbformat_minor": 5
}
