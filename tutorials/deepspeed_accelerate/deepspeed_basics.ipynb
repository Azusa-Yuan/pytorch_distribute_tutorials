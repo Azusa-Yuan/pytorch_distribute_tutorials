{
 "cells": [
  {
   "cell_type": "markdown",
   "id": "cd4f024b",
   "metadata": {},
   "source": [
    "- references\n",
    "    - https://github.com/microsoft/DeepSpeed\n",
    "        - https://www.microsoft.com/en-us/research/blog/turing-nlg-a-17-billion-parameter-language-model-by-microsoft/\n",
    "    - huggingface DeepSpeed Integration\n",
    "        - https://huggingface.co/docs/transformers/main_classes/deepspeed\n",
    "    - cli\n",
    "        - https://colab.research.google.com/github/stas00/porting/blob/master/transformers/deepspeed/DeepSpeed_on_colab_CLI.ipynb#scrollTo=vSlYvQWLwblN"
   ]
  },
  {
   "cell_type": "code",
   "execution_count": 2,
   "id": "7f796619",
   "metadata": {
    "ExecuteTime": {
     "end_time": "2024-02-25T08:14:33.341383Z",
     "start_time": "2024-02-25T08:14:33.336749Z"
    }
   },
   "outputs": [],
   "source": [
    "from IPython.display import Image"
   ]
  },
  {
   "cell_type": "markdown",
   "id": "5dcf7704",
   "metadata": {},
   "source": [
    "## basics"
   ]
  },
  {
   "cell_type": "markdown",
   "id": "76b8d694",
   "metadata": {},
   "source": [
    "- 三篇论文（**Ze**ro **R**edundancy **O**ptimizer）：\n",
    "    - ZeRO: Memory Optimizations Toward Training Trillion Parameter Models\n",
    "        - https://arxiv.org/abs/1910.02054\n",
    "    - ZeRO-Infinity: Breaking the GPU Memory Wall for Extreme Scale Deep Learning\n",
    "        - https://arxiv.org/abs/2104.07857\n",
    "    - ZeRO-Offload: Democratizing Billion-Scale Model Training\n",
    "        - https://arxiv.org/abs/2101.06840\n",
    "- DeepSpeed\n",
    "    - Optimizer state partitioning (ZeRO stage 1)\n",
    "    - Gradient partitioning (ZeRO stage 2)\n",
    "    - Parameter partitioning (ZeRO stage 3)\n",
    "    - Custom mixed precision training handling\n",
    "    - A range of fast CUDA-extension-based optimizers\n",
    "    - ZeRO-Offload to CPU and NVMe\n",
    "- 安装\n",
    "    - 安装之后的检验，命令行执行 `ds_report`（ds：deepseed）；\n",
    "    - 除此之外还有\n",
    "        - `ds_accelearator`：setting ds_accelerator to cuda (auto_detect)\n",
    "- 其他\n",
    "    - sparse attention：https://www.deepspeed.ai/2020/09/08/sparse-attention.html\n",
    "        - 10x longer seq，up to 6x faster；"
   ]
  },
  {
   "cell_type": "code",
   "execution_count": 3,
   "id": "fdc6aed9",
   "metadata": {
    "ExecuteTime": {
     "end_time": "2023-12-21T12:59:59.206502Z",
     "start_time": "2023-12-21T12:59:59.199710Z"
    }
   },
   "outputs": [],
   "source": [
    "# !ds_report"
   ]
  },
  {
   "cell_type": "markdown",
   "id": "da0ab20c",
   "metadata": {},
   "source": [
    "## os + g + p"
   ]
  },
  {
   "cell_type": "code",
   "execution_count": 5,
   "id": "8b039a2a",
   "metadata": {
    "ExecuteTime": {
     "end_time": "2024-02-25T08:19:48.266004Z",
     "start_time": "2024-02-25T08:19:48.255181Z"
    }
   },
   "outputs": [
    {
     "data": {
      "text/html": [
       "<img src=\"https://www.microsoft.com/en-us/research/uploads/prod/2020/02/DeepSpeed-Image-1.png\" width=\"800\"/>"
      ],
      "text/plain": [
       "<IPython.core.display.Image object>"
      ]
     },
     "execution_count": 5,
     "metadata": {},
     "output_type": "execute_result"
    }
   ],
   "source": [
    "Image(url='https://www.microsoft.com/en-us/research/uploads/prod/2020/02/DeepSpeed-Image-1.png', width=800)"
   ]
  },
  {
   "cell_type": "markdown",
   "id": "08f7231d",
   "metadata": {},
   "source": [
    "- #p == #g\n",
    "    - fp16 Parameters: 2bytes\n",
    "    - fp16 Gradients: 2bytes\n",
    "- K is the optimizer specific constant term. \n",
    "    - K = 12\n",
    "    - fp32 Parameters: 4 bytes\n",
    "    - fp32 Gradients (mean): 4 bytes\n",
    "    -  fp32 Gradients (variance): 4 bytes"
   ]
  },
  {
   "cell_type": "code",
   "execution_count": 7,
   "id": "5cd595d2",
   "metadata": {
    "ExecuteTime": {
     "end_time": "2024-03-03T02:49:18.238919Z",
     "start_time": "2024-03-03T02:49:18.229036Z"
    }
   },
   "outputs": [
    {
     "name": "stdout",
     "output_type": "stream",
     "text": [
      "120.0\n",
      "31.40625\n",
      "16.640625\n",
      "1.875\n"
     ]
    }
   ],
   "source": [
    "K = 12\n",
    "psi = 7_500_000_000\n",
    "N_d = 64\n",
    "\n",
    "print((2 + 2 + K) * psi / 10**9)\n",
    "print((2*psi + 2*psi + K*psi/N_d) / 10**9)\n",
    "print((2*psi + (2+K)*psi/N_d) / 10**9)\n",
    "print((2+2+K)*psi / N_d / 10**9)"
   ]
  },
  {
   "cell_type": "code",
   "execution_count": 4,
   "id": "9572490c",
   "metadata": {
    "ExecuteTime": {
     "end_time": "2024-02-25T08:14:41.414696Z",
     "start_time": "2024-02-25T08:14:41.407185Z"
    }
   },
   "outputs": [
    {
     "data": {
      "text/html": [
       "<img src=\"https://miro.medium.com/v2/resize:fit:1400/format:webp/1*QlAuDP1E70FsldhBRsaALw.png\" width=\"800\"/>"
      ],
      "text/plain": [
       "<IPython.core.display.Image object>"
      ]
     },
     "execution_count": 4,
     "metadata": {},
     "output_type": "execute_result"
    }
   ],
   "source": [
    "Image(url='https://miro.medium.com/v2/resize:fit:1400/format:webp/1*QlAuDP1E70FsldhBRsaALw.png', width=800)"
   ]
  },
  {
   "cell_type": "markdown",
   "id": "4837b942",
   "metadata": {},
   "source": [
    "## examples"
   ]
  },
  {
   "cell_type": "markdown",
   "id": "2e288d88",
   "metadata": {},
   "source": [
    "### with huggingface transformers"
   ]
  },
  {
   "cell_type": "markdown",
   "id": "3049262c",
   "metadata": {},
   "source": [
    "- DeepSpeed is integrated with the Trainer class and most of the setup is automatically taken care of for you."
   ]
  },
  {
   "cell_type": "markdown",
   "id": "232ddd75",
   "metadata": {},
   "source": [
    "### example"
   ]
  },
  {
   "cell_type": "markdown",
   "id": "8094304c",
   "metadata": {},
   "source": [
    "- `git clone https://github.com/huggingface/transformers.git`：源码下载，\n",
    "    - `pip install git+https://github.com/huggingface/transformers.git`: 源码安装"
   ]
  },
  {
   "cell_type": "markdown",
   "id": "b843bdc0",
   "metadata": {},
   "source": [
    "```\n",
    "deepspeed examples/pytorch/translation/run_translation.py \\\n",
    "--deepspeed tests/deepspeed/ds_config_zero3.json \\\n",
    "--model_name_or_path t5-small --per_device_train_batch_size 1 \\\n",
    "--output_dir output_dir --overwrite_output_dir --fp16 \\\n",
    "--do_train --max_train_samples 500 --num_train_epochs 1 \\\n",
    "--dataset_name wmt16 --dataset_config \"ro-en\" \\\n",
    "--source_lang en --target_lang ro\n",
    "```\n",
    "\n",
    "- a key appeal of ZeRO is that **no model code modifications** are required. \n",
    "    -  using ZeRO in a DeepSpeed model is quick and easy because all you need is to change a few configurations in the DeepSpeed configuration JSON. **No code changes are needed.**"
   ]
  },
  {
   "cell_type": "markdown",
   "id": "8f8dc97d",
   "metadata": {},
   "source": [
    "- 启动日志\n",
    "    - `NotImplementedError: Using RTX 4000 series doesn't support faster communication broadband via P2P or IB. Please set `NCCL_P2P_DISABLE=\"1\"` and `NCCL_IB_DISABLE=\"1\" or use `accelerate launch` which will do this automatically.`\n",
    "        - `export NCCL_IB_DISABLE=1`\n",
    "        - `export NCCL_P2P_DISABLE=1`\n",
    "    - `--master_addr=127.0.0.1 --master_port=29500`，默认会占用的端口号\n",
    "        - 分布式 gpu 进程组设置的主节点（master node）\n",
    "        - 程序异常退出时，有可能未释放该端口号；"
   ]
  }
 ],
 "metadata": {
  "kernelspec": {
   "display_name": "Python 3 (ipykernel)",
   "language": "python",
   "name": "python3"
  },
  "language_info": {
   "codemirror_mode": {
    "name": "ipython",
    "version": 3
   },
   "file_extension": ".py",
   "mimetype": "text/x-python",
   "name": "python",
   "nbconvert_exporter": "python",
   "pygments_lexer": "ipython3",
   "version": "3.10.13"
  },
  "toc": {
   "base_numbering": 1,
   "nav_menu": {},
   "number_sections": true,
   "sideBar": true,
   "skip_h1_title": false,
   "title_cell": "Table of Contents",
   "title_sidebar": "Contents",
   "toc_cell": false,
   "toc_position": {},
   "toc_section_display": true,
   "toc_window_display": false
  }
 },
 "nbformat": 4,
 "nbformat_minor": 5
}
