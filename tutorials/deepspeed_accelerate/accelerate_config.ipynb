{
 "cells": [
  {
   "cell_type": "markdown",
   "id": "4686a416-89b7-4f45-bbf6-08ff9f3a7665",
   "metadata": {},
   "source": [
    "- 默认配置文件地址：`~/.cache/huggingface/accelerate/default_config.yaml`\n",
    "- cli 配置（`$ accelerate config`）：\n",
    "    - https://huggingface.co/docs/accelerate/package_reference/cli\n",
    "- 命令行指定配置\n",
    "    - `accelerate launch --config_file xx.yaml`"
   ]
  },
  {
   "cell_type": "markdown",
   "id": "af579a89-53c5-4bb4-857d-5cf8458a9f87",
   "metadata": {},
   "source": [
    "## deepseed"
   ]
  },
  {
   "cell_type": "markdown",
   "id": "01a11572-581b-4a7b-a984-ca27ed2004a0",
   "metadata": {},
   "source": [
    "- offload optimizer states\n",
    "    - none|cpu|nvme\n",
    "- offload parameters\n",
    "    - none|cpu|nvme"
   ]
  }
 ],
 "metadata": {
  "kernelspec": {
   "display_name": "Python 3 (ipykernel)",
   "language": "python",
   "name": "python3"
  },
  "language_info": {
   "codemirror_mode": {
    "name": "ipython",
    "version": 3
   },
   "file_extension": ".py",
   "mimetype": "text/x-python",
   "name": "python",
   "nbconvert_exporter": "python",
   "pygments_lexer": "ipython3",
   "version": "3.10.13"
  }
 },
 "nbformat": 4,
 "nbformat_minor": 5
}
