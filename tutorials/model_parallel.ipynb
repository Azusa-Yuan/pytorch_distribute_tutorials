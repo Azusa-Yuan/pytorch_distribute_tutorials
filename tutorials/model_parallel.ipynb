{
 "cells": [
  {
   "cell_type": "markdown",
   "id": "95b4e641",
   "metadata": {},
   "source": [
    "- 参考\n",
    "    - https://pytorch.org/tutorials/intermediate/model_parallel_tutorial.html\n",
    "- 数据并行是切数据（scattering inputs and gathering outputs），模型并行是切模型（shards）；"
   ]
  }
 ],
 "metadata": {
  "kernelspec": {
   "display_name": "Python 3 (ipykernel)",
   "language": "python",
   "name": "python3"
  },
  "language_info": {
   "codemirror_mode": {
    "name": "ipython",
    "version": 3
   },
   "file_extension": ".py",
   "mimetype": "text/x-python",
   "name": "python",
   "nbconvert_exporter": "python",
   "pygments_lexer": "ipython3",
   "version": "3.10.9"
  },
  "toc": {
   "base_numbering": 1,
   "nav_menu": {},
   "number_sections": true,
   "sideBar": true,
   "skip_h1_title": false,
   "title_cell": "Table of Contents",
   "title_sidebar": "Contents",
   "toc_cell": false,
   "toc_position": {},
   "toc_section_display": true,
   "toc_window_display": false
  }
 },
 "nbformat": 4,
 "nbformat_minor": 5
}
