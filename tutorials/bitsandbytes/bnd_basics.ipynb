{
 "cells": [
  {
   "cell_type": "markdown",
   "id": "b5f1a7ca",
   "metadata": {},
   "source": [
    "- references\n",
    "    - https://huggingface.co/blog/hf-bitsandbytes-integration\n",
    "    - https://huggingface.co/blog/4bit-transformers-bitsandbytes"
   ]
  },
  {
   "cell_type": "code",
   "execution_count": 1,
   "id": "77faa87b",
   "metadata": {
    "ExecuteTime": {
     "end_time": "2024-03-17T06:27:40.554019Z",
     "start_time": "2024-03-17T06:27:38.699385Z"
    }
   },
   "outputs": [
    {
     "name": "stderr",
     "output_type": "stream",
     "text": [
      "There was a problem when trying to write in your cache folder (/media/whaow/.cache/huggingface/hub). You should set the environment variable TRANSFORMERS_CACHE to a writable directory.\n"
     ]
    }
   ],
   "source": [
    "import torch\n",
    "from transformers import BitsAndBytesConfig"
   ]
  },
  {
   "cell_type": "code",
   "execution_count": 2,
   "id": "a08060bb",
   "metadata": {
    "ExecuteTime": {
     "end_time": "2024-03-17T06:27:40.559418Z",
     "start_time": "2024-03-17T06:27:40.555737Z"
    }
   },
   "outputs": [],
   "source": [
    "bnb_config = BitsAndBytesConfig(\n",
    "    load_in_4bit=True,\n",
    "    bnb_4bit_quant_type=\"nf4\",\n",
    "    bnb_4bit_compute_dtype=torch.bfloat16,\n",
    ")"
   ]
  },
  {
   "cell_type": "code",
   "execution_count": null,
   "id": "163914a5",
   "metadata": {},
   "outputs": [],
   "source": [
    "print(base_model.get_memory_footprint() / (1024**2))\n",
    "for name, para in base_model.named_parameters():\n",
    "    print(para.dtype, name, para.shape)"
   ]
  },
  {
   "cell_type": "markdown",
   "id": "171f7a98",
   "metadata": {},
   "source": [
    "- 4bit quantization \n",
    "    - pure FP4 quantization. \n",
    "    - NF4 (normalized float 4 (default))\n",
    "- compute dtype\n",
    "    - default torch.float32"
   ]
  }
 ],
 "metadata": {
  "kernelspec": {
   "display_name": "Python 3 (ipykernel)",
   "language": "python",
   "name": "python3"
  },
  "language_info": {
   "codemirror_mode": {
    "name": "ipython",
    "version": 3
   },
   "file_extension": ".py",
   "mimetype": "text/x-python",
   "name": "python",
   "nbconvert_exporter": "python",
   "pygments_lexer": "ipython3",
   "version": "3.10.13"
  },
  "toc": {
   "base_numbering": 1,
   "nav_menu": {},
   "number_sections": true,
   "sideBar": true,
   "skip_h1_title": false,
   "title_cell": "Table of Contents",
   "title_sidebar": "Contents",
   "toc_cell": false,
   "toc_position": {},
   "toc_section_display": true,
   "toc_window_display": false
  }
 },
 "nbformat": 4,
 "nbformat_minor": 5
}
