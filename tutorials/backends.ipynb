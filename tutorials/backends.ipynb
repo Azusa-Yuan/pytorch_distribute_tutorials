{
 "cells": [
  {
   "cell_type": "markdown",
   "id": "c2d64808",
   "metadata": {},
   "source": [
    "- references\n",
    "  - https://www.uio.no/studier/emner/matnat/ifi/INF3380/v11/undervisningsmateriale/inf3380-week06.pdf\n",
    "  - https://indico.desy.de/event/12535/contributions/9450/attachments/6466/7452/CL5_MPI_Lecture.pdf"
   ]
  },
  {
   "cell_type": "markdown",
   "id": "789e3443",
   "metadata": {},
   "source": [
    "## overall"
   ]
  },
  {
   "cell_type": "markdown",
   "id": "6944af1f",
   "metadata": {},
   "source": [
    "> 都算是并行计算库（library）；\n",
    "\n",
    "- NCCL: NVIDIA Collective Communication Library (NCCL)\n",
    "    - PCIe、Nvlink、InfiniBand 上可以实现较高的通信速度。\n",
    "- MPI: Message Passing Interface\n",
    "- gloo: 单机多进程的情况 on CPU"
   ]
  },
  {
   "cell_type": "markdown",
   "id": "797c9af4",
   "metadata": {},
   "source": [
    "## MPI"
   ]
  },
  {
   "cell_type": "markdown",
   "id": "239c62d4",
   "metadata": {},
   "source": [
    "## NCCL"
   ]
  },
  {
   "cell_type": "code",
   "execution_count": 1,
   "id": "d971a4c1",
   "metadata": {
    "ExecuteTime": {
     "end_time": "2024-02-20T14:20:31.510452Z",
     "start_time": "2024-02-20T14:20:31.269391Z"
    }
   },
   "outputs": [],
   "source": [
    "!export NCCL_DEBUG=INFO\n",
    "!export NCCL_SOCKET_IFNAME=eno2\n",
    "# export NCCL_IB_DISABLE=1"
   ]
  },
  {
   "cell_type": "code",
   "execution_count": 2,
   "id": "2b8d1b69",
   "metadata": {
    "ExecuteTime": {
     "end_time": "2024-02-20T14:20:32.845813Z",
     "start_time": "2024-02-20T14:20:31.516275Z"
    }
   },
   "outputs": [],
   "source": [
    "import torch\n",
    "import torch.distributed as dist\n",
    "import os\n",
    "from datetime import datetime, timedelta"
   ]
  },
  {
   "cell_type": "code",
   "execution_count": 3,
   "id": "0a709d97",
   "metadata": {
    "ExecuteTime": {
     "end_time": "2024-02-20T14:20:32.854737Z",
     "start_time": "2024-02-20T14:20:32.848109Z"
    }
   },
   "outputs": [],
   "source": [
    "def run(rank, size):\n",
    "    \"\"\" Distributed function to be implemented later. \"\"\"\n",
    "    pass\n",
    "\n",
    "def init_process(rank, size, fn, backend='nccl'):\n",
    "    \"\"\" Initialize the distributed environment. \"\"\"\n",
    "    os.environ['MASTER_ADDR'] = 'localhost'\n",
    "#     os.environ['MASTER_PORT'] = '29501'\n",
    "    os.environ['MASTER_PORT'] = '12355'\n",
    "    dist.init_process_group(backend, rank=rank, world_size=size, \n",
    "                            timeout=timedelta(days=2)\n",
    "                           )\n",
    "    fn(rank, size)    "
   ]
  },
  {
   "cell_type": "code",
   "execution_count": 4,
   "id": "bf6f35c9",
   "metadata": {
    "ExecuteTime": {
     "end_time": "2024-02-20T14:20:32.988606Z",
     "start_time": "2024-02-20T14:20:32.857323Z"
    }
   },
   "outputs": [
    {
     "name": "stderr",
     "output_type": "stream",
     "text": [
      "Process Process-2:\n",
      "Traceback (most recent call last):\n",
      "  File \"/home/whaow/anaconda3/lib/python3.10/multiprocessing/process.py\", line 314, in _bootstrap\n",
      "    self.run()\n",
      "  File \"/home/whaow/anaconda3/lib/python3.10/multiprocessing/process.py\", line 108, in run\n",
      "    self._target(*self._args, **self._kwargs)\n",
      "  File \"/tmp/ipykernel_50556/2435254016.py\", line 10, in init_process\n",
      "    dist.init_process_group(backend, rank=rank, world_size=size,\n",
      "  File \"/home/whaow/anaconda3/lib/python3.10/site-packages/torch/distributed/distributed_c10d.py\", line 932, in init_process_group\n",
      "    _store_based_barrier(rank, store, timeout)\n",
      "  File \"/home/whaow/anaconda3/lib/python3.10/site-packages/torch/distributed/distributed_c10d.py\", line 456, in _store_based_barrier\n",
      "    worker_count = store.add(store_key, 0)\n",
      "RuntimeError: Broken pipe\n"
     ]
    }
   ],
   "source": [
    "size = 2  # Number of processes\n",
    "processes = []\n",
    "for rank in range(size):\n",
    "    p = torch.multiprocessing.Process(target=init_process, args=(rank, size, run))\n",
    "    p.start()\n",
    "    processes.append(p)\n",
    "\n",
    "for p in processes:\n",
    "    p.join()"
   ]
  },
  {
   "cell_type": "markdown",
   "id": "929349b7",
   "metadata": {},
   "source": [
    "## Gloo"
   ]
  }
 ],
 "metadata": {
  "kernelspec": {
   "display_name": "Python 3 (ipykernel)",
   "language": "python",
   "name": "python3"
  },
  "language_info": {
   "codemirror_mode": {
    "name": "ipython",
    "version": 3
   },
   "file_extension": ".py",
   "mimetype": "text/x-python",
   "name": "python",
   "nbconvert_exporter": "python",
   "pygments_lexer": "ipython3",
   "version": "3.10.13"
  },
  "toc": {
   "base_numbering": 1,
   "nav_menu": {},
   "number_sections": true,
   "sideBar": true,
   "skip_h1_title": false,
   "title_cell": "Table of Contents",
   "title_sidebar": "Contents",
   "toc_cell": false,
   "toc_position": {},
   "toc_section_display": true,
   "toc_window_display": false
  }
 },
 "nbformat": 4,
 "nbformat_minor": 5
}
