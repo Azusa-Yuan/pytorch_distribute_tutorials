{
 "cells": [
  {
   "cell_type": "markdown",
   "id": "c2d64808",
   "metadata": {},
   "source": [
    "- references\n",
    "  - https://www.uio.no/studier/emner/matnat/ifi/INF3380/v11/undervisningsmateriale/inf3380-week06.pdf\n",
    "  - https://indico.desy.de/event/12535/contributions/9450/attachments/6466/7452/CL5_MPI_Lecture.pdf"
   ]
  },
  {
   "cell_type": "markdown",
   "id": "789e3443",
   "metadata": {},
   "source": [
    "## overall"
   ]
  },
  {
   "cell_type": "markdown",
   "id": "6944af1f",
   "metadata": {},
   "source": [
    "> 都算是并行计算库（library）；\n",
    "\n",
    "- NCCL: NVIDIA Collective Communication Library (NCCL)\n",
    "    - PCIe、Nvlink、InfiniBand 上可以实现较高的通信速度。\n",
    "- MPI: Message Passing Interface"
   ]
  },
  {
   "cell_type": "markdown",
   "id": "797c9af4",
   "metadata": {},
   "source": [
    "## MPI"
   ]
  },
  {
   "cell_type": "markdown",
   "id": "239c62d4",
   "metadata": {},
   "source": [
    "## NCCL"
   ]
  },
  {
   "cell_type": "markdown",
   "id": "929349b7",
   "metadata": {},
   "source": [
    "## Gloo"
   ]
  }
 ],
 "metadata": {
  "kernelspec": {
   "display_name": "Python 3 (ipykernel)",
   "language": "python",
   "name": "python3"
  },
  "language_info": {
   "codemirror_mode": {
    "name": "ipython",
    "version": 3
   },
   "file_extension": ".py",
   "mimetype": "text/x-python",
   "name": "python",
   "nbconvert_exporter": "python",
   "pygments_lexer": "ipython3",
   "version": "3.10.9"
  },
  "toc": {
   "base_numbering": 1,
   "nav_menu": {},
   "number_sections": true,
   "sideBar": true,
   "skip_h1_title": false,
   "title_cell": "Table of Contents",
   "title_sidebar": "Contents",
   "toc_cell": false,
   "toc_position": {},
   "toc_section_display": true,
   "toc_window_display": false
  }
 },
 "nbformat": 4,
 "nbformat_minor": 5
}
