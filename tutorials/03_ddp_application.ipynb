{
 "cells": [
  {
   "cell_type": "code",
   "execution_count": 1,
   "id": "210ec12d",
   "metadata": {
    "ExecuteTime": {
     "end_time": "2023-06-03T09:04:07.756600Z",
     "start_time": "2023-06-03T09:04:06.421079Z"
    }
   },
   "outputs": [],
   "source": [
    "import os\n",
    "import torch\n",
    "import torch.nn.functional as F\n",
    "from torch.utils.data import Dataset, DataLoader"
   ]
  },
  {
   "cell_type": "code",
   "execution_count": 2,
   "id": "06f5263a",
   "metadata": {
    "ExecuteTime": {
     "end_time": "2023-06-03T09:04:14.333022Z",
     "start_time": "2023-06-03T09:04:14.328946Z"
    }
   },
   "outputs": [],
   "source": [
    "import torch.multiprocessing as mp\n",
    "from torch.utils.data.distributed import DistributedSampler\n",
    "from torch.nn.parallel import DistributedDataParallel as DDP\n",
    "from torch.distributed import init_process_group, destroy_process_group"
   ]
  },
  {
   "cell_type": "markdown",
   "id": "03e2a7c2",
   "metadata": {},
   "source": [
    "## ddp setup"
   ]
  },
  {
   "cell_type": "code",
   "execution_count": 3,
   "id": "6c837dff",
   "metadata": {
    "ExecuteTime": {
     "end_time": "2023-06-03T09:04:26.472193Z",
     "start_time": "2023-06-03T09:04:26.463465Z"
    }
   },
   "outputs": [],
   "source": [
    "def ddp_setup(rank, world_size):\n",
    "    \"\"\"\n",
    "    Args:\n",
    "        rank: Unique identifier of each process\n",
    "        world_size: Total number of processes\n",
    "    \"\"\"\n",
    "    os.environ[\"MASTER_ADDR\"] = \"localhost\"\n",
    "    os.environ[\"MASTER_PORT\"] = \"12355\"\n",
    "    init_process_group(backend=\"nccl\", rank=rank, world_size=world_size)\n",
    "    torch.cuda.set_device(rank)"
   ]
  },
  {
   "cell_type": "code",
   "execution_count": null,
   "id": "87ae0041",
   "metadata": {},
   "outputs": [],
   "source": []
  }
 ],
 "metadata": {
  "kernelspec": {
   "display_name": "Python 3 (ipykernel)",
   "language": "python",
   "name": "python3"
  },
  "language_info": {
   "codemirror_mode": {
    "name": "ipython",
    "version": 3
   },
   "file_extension": ".py",
   "mimetype": "text/x-python",
   "name": "python",
   "nbconvert_exporter": "python",
   "pygments_lexer": "ipython3",
   "version": "3.10.9"
  },
  "toc": {
   "base_numbering": 1,
   "nav_menu": {},
   "number_sections": true,
   "sideBar": true,
   "skip_h1_title": false,
   "title_cell": "Table of Contents",
   "title_sidebar": "Contents",
   "toc_cell": false,
   "toc_position": {},
   "toc_section_display": true,
   "toc_window_display": false
  }
 },
 "nbformat": 4,
 "nbformat_minor": 5
}
