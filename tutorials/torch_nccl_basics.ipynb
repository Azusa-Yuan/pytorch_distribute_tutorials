{
 "cells": [
  {
   "cell_type": "markdown",
   "id": "9468bb10",
   "metadata": {},
   "source": [
    "- https://www.cnblogs.com/bytehandler/p/17635933.html"
   ]
  },
  {
   "cell_type": "markdown",
   "id": "b620078f",
   "metadata": {},
   "source": [
    "- `export NCCL_P2P_DISABLE=1`：disable direct GPU-to-GPU (P2P) communication.\n",
    "    - 禁用点对点通信，点对点通信是一种高效的数据传输方式，允许直接在 GPU 之间传输数据，绕过主机内存（CPU 内存）。但在某些情况下，点对点通信可能会导致兼容性或性能问题。"
   ]
  },
  {
   "cell_type": "markdown",
   "id": "5b67b806",
   "metadata": {},
   "source": [
    "## `torch.distributed.barrier()`"
   ]
  },
  {
   "cell_type": "markdown",
   "id": "344003ef",
   "metadata": {},
   "source": [
    "- 同步进程组内的所有进程，阻塞所有进程直到所有进程都执行到操作。"
   ]
  },
  {
   "cell_type": "markdown",
   "id": "989034da",
   "metadata": {},
   "source": [
    "## 集合通信"
   ]
  },
  {
   "cell_type": "markdown",
   "id": "8de7b0c5",
   "metadata": {},
   "source": [
    "NCCL支持集合通信操作（Collective Operations）：\n",
    "\n",
    "- `AllReduce`，进程组内所有进程进行规约操作，最终所有进程得到统一的Tensor。\n",
    "- `ReduceScatter`，进程组内所有进程先进行reduce操作，再进行scatter操作，每个进程得到Tensor的一部分。\n",
    "- `AllGather`，进程组内所有进程的Tensor聚合成一个Tensor列表，并且最终所有进程都有一个Tensor列表副本。\n",
    "- `Broadcast`，进程组内的一个进程将Tensor广播给其他进程。"
   ]
  },
  {
   "cell_type": "code",
   "execution_count": null,
   "id": "2ed805c7",
   "metadata": {},
   "outputs": [],
   "source": []
  }
 ],
 "metadata": {
  "kernelspec": {
   "display_name": "Python 3 (ipykernel)",
   "language": "python",
   "name": "python3"
  },
  "language_info": {
   "codemirror_mode": {
    "name": "ipython",
    "version": 3
   },
   "file_extension": ".py",
   "mimetype": "text/x-python",
   "name": "python",
   "nbconvert_exporter": "python",
   "pygments_lexer": "ipython3",
   "version": "3.10.13"
  },
  "toc": {
   "base_numbering": 1,
   "nav_menu": {},
   "number_sections": true,
   "sideBar": true,
   "skip_h1_title": false,
   "title_cell": "Table of Contents",
   "title_sidebar": "Contents",
   "toc_cell": false,
   "toc_position": {},
   "toc_section_display": true,
   "toc_window_display": false
  }
 },
 "nbformat": 4,
 "nbformat_minor": 5
}
