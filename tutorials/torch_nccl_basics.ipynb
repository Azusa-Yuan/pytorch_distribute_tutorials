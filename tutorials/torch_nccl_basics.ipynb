{
 "cells": [
  {
   "cell_type": "markdown",
   "id": "9468bb10",
   "metadata": {},
   "source": [
    "- https://www.cnblogs.com/bytehandler/p/17635933.html"
   ]
  },
  {
   "cell_type": "markdown",
   "id": "b620078f",
   "metadata": {},
   "source": [
    "- `export NCCL_P2P_DISABLE=1`：disable direct GPU-to-GPU (P2P) communication.\n",
    "    - 禁用点对点通信，点对点通信是一种高效的数据传输方式，允许直接在 GPU 之间传输数据，绕过主机内存（CPU 内存）。但在某些情况下，点对点通信可能会导致兼容性或性能问题。\n",
    "    - Using RTX 4000 series which doesn't support faster communication speedups. Ensuring P2P and IB communications are disabled."
   ]
  },
  {
   "cell_type": "code",
   "execution_count": 1,
   "id": "92c28b88",
   "metadata": {
    "ExecuteTime": {
     "end_time": "2024-02-23T14:33:44.383641Z",
     "start_time": "2024-02-23T14:33:44.366707Z"
    }
   },
   "outputs": [],
   "source": [
    "from IPython.display import Image"
   ]
  },
  {
   "cell_type": "markdown",
   "id": "1fa6a933",
   "metadata": {},
   "source": [
    "## pytorch 分布式相关api"
   ]
  },
  {
   "cell_type": "markdown",
   "id": "f94143b9",
   "metadata": {},
   "source": [
    "- `torch.distributed.init_process_group()` ，初始化进程组。\n",
    "- `torch.distributed.get_rank()`，可以获得当前进程的 rank；\n",
    "- `torch.distributed.get_world_size()`，可以获得进程组的进程数量。\n",
    "- `torch.distributed.barrier()`，同步进程组内的所有进程，阻塞所有进程直到所有进程都执行到操作。"
   ]
  },
  {
   "cell_type": "markdown",
   "id": "82de9501",
   "metadata": {},
   "source": [
    "## 集合通信"
   ]
  },
  {
   "cell_type": "markdown",
   "id": "8de7b0c5",
   "metadata": {},
   "source": [
    "NCCL支持集合通信操作（Collective Operations）：\n",
    "\n",
    "- `Broadcast`，进程组内的一个进程将Tensor广播给其他进程。\n",
    "- `AllReduce`，进程组内所有进程进行规约操作，最终所有进程得到统一的Tensor。\n",
    "- `ReduceScatter`，进程组内所有进程先进行reduce操作，再进行scatter操作，每个进程得到Tensor的一部分。\n",
    "- `AllGather`，进程组内所有进程的Tensor聚合成一个Tensor列表，并且最终所有进程都有一个Tensor列表副本。"
   ]
  },
  {
   "cell_type": "code",
   "execution_count": 3,
   "id": "dc30af63",
   "metadata": {
    "ExecuteTime": {
     "end_time": "2024-02-23T14:34:20.183502Z",
     "start_time": "2024-02-23T14:34:20.172363Z"
    }
   },
   "outputs": [
    {
     "data": {
      "text/html": [
       "<img src=\"https://pytorch.org/tutorials/_images/scatter.png\" width=\"400\"/>"
      ],
      "text/plain": [
       "<IPython.core.display.Image object>"
      ]
     },
     "execution_count": 3,
     "metadata": {},
     "output_type": "execute_result"
    }
   ],
   "source": [
    "Image(url='https://pytorch.org/tutorials/_images/scatter.png', width=400)"
   ]
  },
  {
   "cell_type": "markdown",
   "id": "34166c12",
   "metadata": {},
   "source": [
    "```\n",
    "def dist_scatter():\n",
    "    dist.barrier()\n",
    "\n",
    "    rank = dist.get_rank()\n",
    "    world_size = dist.get_world_size()\n",
    "\n",
    "    tensor = torch.zeros(world_size)\n",
    "    before_tensor = tensor.clone()\n",
    "    if dist.get_rank() == 0:\n",
    "        # Assumes world_size of 2.\n",
    "        # Only tensors, all of which must be the same size.\n",
    "        t_ones = torch.ones(world_size)\n",
    "        t_fives = torch.ones(world_size) * 5\n",
    "        scatter_list = [t_ones, t_fives]\n",
    "    else:\n",
    "        scatter_list = None\n",
    "    dist.scatter(tensor, scatter_list, src=0)\n",
    "    logging.info(f\"broadcast, rank: {rank}, before scatter: {repr(before_tensor)} after scatter: {repr(tensor)}\")\n",
    "    dist.barrier()\n",
    "```"
   ]
  }
 ],
 "metadata": {
  "kernelspec": {
   "display_name": "Python 3 (ipykernel)",
   "language": "python",
   "name": "python3"
  },
  "language_info": {
   "codemirror_mode": {
    "name": "ipython",
    "version": 3
   },
   "file_extension": ".py",
   "mimetype": "text/x-python",
   "name": "python",
   "nbconvert_exporter": "python",
   "pygments_lexer": "ipython3",
   "version": "3.10.13"
  },
  "toc": {
   "base_numbering": 1,
   "nav_menu": {},
   "number_sections": true,
   "sideBar": true,
   "skip_h1_title": false,
   "title_cell": "Table of Contents",
   "title_sidebar": "Contents",
   "toc_cell": false,
   "toc_position": {},
   "toc_section_display": true,
   "toc_window_display": false
  }
 },
 "nbformat": 4,
 "nbformat_minor": 5
}
