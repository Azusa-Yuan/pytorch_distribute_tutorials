{
 "cells": [
  {
   "cell_type": "markdown",
   "id": "33386ce6",
   "metadata": {},
   "source": [
    "- FSDP\n",
    "    - Fully Sharded Data Parallel\n",
    "    - facebook 提出来的；\n",
    "\n",
    "- Shard parameters, gradients, and optimizer states across all data-parallel processes\n",
    "- Nested Fully Sharded Data Parallel is recommended for saving peak memory and overlapping communication and computation\n"
   ]
  },
  {
   "cell_type": "markdown",
   "id": "fcf8ddde",
   "metadata": {},
   "source": [
    "```\n",
    "import torch\n",
    "from torch.distributed._fsdp import FullyShardedDataParallel as FSDP\n",
    "\n",
    "torch.cuda.set_device(device_id)\n",
    "\n",
    "sharded_module = FSDP(my_module)\n",
    "optim = torch.optim.Adam(sharded_module.parameters(), lr=0.0001)\n",
    "sharded_module(input).sum().backward()\n",
    "optim.step()\n",
    "```"
   ]
  }
 ],
 "metadata": {
  "kernelspec": {
   "display_name": "Python 3 (ipykernel)",
   "language": "python",
   "name": "python3"
  },
  "language_info": {
   "codemirror_mode": {
    "name": "ipython",
    "version": 3
   },
   "file_extension": ".py",
   "mimetype": "text/x-python",
   "name": "python",
   "nbconvert_exporter": "python",
   "pygments_lexer": "ipython3",
   "version": "3.10.9"
  },
  "toc": {
   "base_numbering": 1,
   "nav_menu": {},
   "number_sections": true,
   "sideBar": true,
   "skip_h1_title": false,
   "title_cell": "Table of Contents",
   "title_sidebar": "Contents",
   "toc_cell": false,
   "toc_position": {},
   "toc_section_display": true,
   "toc_window_display": false
  }
 },
 "nbformat": 4,
 "nbformat_minor": 5
}
