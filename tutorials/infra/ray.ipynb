{
 "cells": [
  {
   "cell_type": "code",
   "execution_count": 1,
   "id": "44b82127-b91e-4ff0-8785-680b027f8075",
   "metadata": {
    "execution": {
     "iopub.execute_input": "2025-02-11T15:59:40.078008Z",
     "iopub.status.busy": "2025-02-11T15:59:40.076778Z",
     "iopub.status.idle": "2025-02-11T15:59:40.084730Z",
     "shell.execute_reply": "2025-02-11T15:59:40.083426Z",
     "shell.execute_reply.started": "2025-02-11T15:59:40.077955Z"
    }
   },
   "outputs": [],
   "source": [
    "from IPython.display import Image"
   ]
  },
  {
   "cell_type": "markdown",
   "id": "7718836e-106a-4b60-b4a6-516c20ead168",
   "metadata": {},
   "source": [
    "- 统一的 (面相 ai 的) e2e 的分布式架构\n",
    "    - https://www.youtube.com/watch?v=oH9pJavu-PU"
   ]
  },
  {
   "cell_type": "code",
   "execution_count": 2,
   "id": "fceacacd-df17-4e46-ae10-0094766446c1",
   "metadata": {
    "execution": {
     "iopub.execute_input": "2025-02-11T15:59:49.205714Z",
     "iopub.status.busy": "2025-02-11T15:59:49.204382Z",
     "iopub.status.idle": "2025-02-11T15:59:49.221217Z",
     "shell.execute_reply": "2025-02-11T15:59:49.219423Z",
     "shell.execute_reply.started": "2025-02-11T15:59:49.205662Z"
    },
    "scrolled": true
   },
   "outputs": [
    {
     "data": {
      "text/html": [
       "<img src=\"https://docs.ray.io/en/latest/_images/ray-air.svg\" width=\"400\"/>"
      ],
      "text/plain": [
       "<IPython.core.display.Image object>"
      ]
     },
     "execution_count": 2,
     "metadata": {},
     "output_type": "execute_result"
    }
   ],
   "source": [
    "Image(url='https://docs.ray.io/en/latest/_images/ray-air.svg', width=400)"
   ]
  },
  {
   "cell_type": "markdown",
   "id": "e336a544-db1a-46e1-aac7-8cde03d8b707",
   "metadata": {},
   "source": [
    "## core api"
   ]
  },
  {
   "cell_type": "code",
   "execution_count": 3,
   "id": "af274ae5-c623-4c74-93a2-020e7bb09855",
   "metadata": {
    "execution": {
     "iopub.execute_input": "2025-02-11T16:08:53.946732Z",
     "iopub.status.busy": "2025-02-11T16:08:53.946138Z",
     "iopub.status.idle": "2025-02-11T16:08:53.955788Z",
     "shell.execute_reply": "2025-02-11T16:08:53.954317Z",
     "shell.execute_reply.started": "2025-02-11T16:08:53.946686Z"
    }
   },
   "outputs": [
    {
     "data": {
      "text/html": [
       "<img src=\"./imgs/ray_1.png\" width=\"400\"/>"
      ],
      "text/plain": [
       "<IPython.core.display.Image object>"
      ]
     },
     "execution_count": 3,
     "metadata": {},
     "output_type": "execute_result"
    }
   ],
   "source": [
    "Image(url='./imgs/ray_1.png', width=400)"
   ]
  },
  {
   "cell_type": "code",
   "execution_count": 4,
   "id": "dc371a37-5664-4d6f-bfd5-f46d7878ed67",
   "metadata": {
    "execution": {
     "iopub.execute_input": "2025-02-11T16:09:00.029130Z",
     "iopub.status.busy": "2025-02-11T16:09:00.028051Z",
     "iopub.status.idle": "2025-02-11T16:09:00.036402Z",
     "shell.execute_reply": "2025-02-11T16:09:00.035119Z",
     "shell.execute_reply.started": "2025-02-11T16:09:00.029083Z"
    }
   },
   "outputs": [
    {
     "data": {
      "text/html": [
       "<img src=\"./imgs/ray_2.png\" width=\"400\"/>"
      ],
      "text/plain": [
       "<IPython.core.display.Image object>"
      ]
     },
     "execution_count": 4,
     "metadata": {},
     "output_type": "execute_result"
    }
   ],
   "source": [
    "Image(url='./imgs/ray_2.png', width=400)"
   ]
  },
  {
   "cell_type": "code",
   "execution_count": 5,
   "id": "0d5c257f-052f-4460-b399-a53c31fb5f01",
   "metadata": {
    "execution": {
     "iopub.execute_input": "2025-02-11T16:09:05.872280Z",
     "iopub.status.busy": "2025-02-11T16:09:05.871113Z",
     "iopub.status.idle": "2025-02-11T16:09:05.880438Z",
     "shell.execute_reply": "2025-02-11T16:09:05.879195Z",
     "shell.execute_reply.started": "2025-02-11T16:09:05.872225Z"
    }
   },
   "outputs": [
    {
     "data": {
      "text/html": [
       "<img src=\"./imgs/ray_3.png\" width=\"400\"/>"
      ],
      "text/plain": [
       "<IPython.core.display.Image object>"
      ]
     },
     "execution_count": 5,
     "metadata": {},
     "output_type": "execute_result"
    }
   ],
   "source": [
    "Image(url='./imgs/ray_3.png', width=400)"
   ]
  },
  {
   "cell_type": "code",
   "execution_count": 6,
   "id": "dc15ecc9-faf8-425d-8d31-94ccc26679d3",
   "metadata": {
    "execution": {
     "iopub.execute_input": "2025-02-11T16:09:10.829268Z",
     "iopub.status.busy": "2025-02-11T16:09:10.827899Z",
     "iopub.status.idle": "2025-02-11T16:09:10.837731Z",
     "shell.execute_reply": "2025-02-11T16:09:10.836349Z",
     "shell.execute_reply.started": "2025-02-11T16:09:10.829218Z"
    }
   },
   "outputs": [
    {
     "data": {
      "text/html": [
       "<img src=\"./imgs/ray_4.png\" width=\"400\"/>"
      ],
      "text/plain": [
       "<IPython.core.display.Image object>"
      ]
     },
     "execution_count": 6,
     "metadata": {},
     "output_type": "execute_result"
    }
   ],
   "source": [
    "Image(url='./imgs/ray_4.png', width=400)"
   ]
  },
  {
   "cell_type": "code",
   "execution_count": 7,
   "id": "5eeaf09c-9e5d-4df9-a58e-898cc97146f6",
   "metadata": {
    "execution": {
     "iopub.execute_input": "2025-02-11T16:09:18.868815Z",
     "iopub.status.busy": "2025-02-11T16:09:18.867322Z",
     "iopub.status.idle": "2025-02-11T16:09:18.877873Z",
     "shell.execute_reply": "2025-02-11T16:09:18.876409Z",
     "shell.execute_reply.started": "2025-02-11T16:09:18.868754Z"
    }
   },
   "outputs": [
    {
     "data": {
      "text/html": [
       "<img src=\"./imgs/ray_5.png\" width=\"400\"/>"
      ],
      "text/plain": [
       "<IPython.core.display.Image object>"
      ]
     },
     "execution_count": 7,
     "metadata": {},
     "output_type": "execute_result"
    }
   ],
   "source": [
    "Image(url='./imgs/ray_5.png', width=400)"
   ]
  },
  {
   "cell_type": "code",
   "execution_count": null,
   "id": "aa786f96-4401-4beb-95d4-ad75fd6a8525",
   "metadata": {},
   "outputs": [],
   "source": []
  }
 ],
 "metadata": {
  "kernelspec": {
   "display_name": "Python 3 (ipykernel)",
   "language": "python",
   "name": "python3"
  },
  "language_info": {
   "codemirror_mode": {
    "name": "ipython",
    "version": 3
   },
   "file_extension": ".py",
   "mimetype": "text/x-python",
   "name": "python",
   "nbconvert_exporter": "python",
   "pygments_lexer": "ipython3",
   "version": "3.10.13"
  }
 },
 "nbformat": 4,
 "nbformat_minor": 5
}
