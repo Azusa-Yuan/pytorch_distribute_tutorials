{
 "cells": [
  {
   "cell_type": "code",
   "execution_count": 1,
   "id": "e3366160-86a9-4886-a63a-02bf9cc55fac",
   "metadata": {
    "execution": {
     "iopub.execute_input": "2025-02-17T14:45:39.644782Z",
     "iopub.status.busy": "2025-02-17T14:45:39.644384Z",
     "iopub.status.idle": "2025-02-17T14:45:39.655111Z",
     "shell.execute_reply": "2025-02-17T14:45:39.652684Z",
     "shell.execute_reply.started": "2025-02-17T14:45:39.644749Z"
    }
   },
   "outputs": [],
   "source": [
    "from IPython.display import Image"
   ]
  },
  {
   "cell_type": "markdown",
   "id": "f992795b-056e-4867-aa62-7629b67bc1a4",
   "metadata": {},
   "source": [
    "### PPO 的四个module"
   ]
  },
  {
   "cell_type": "markdown",
   "id": "75e3c606-42d0-41a5-ad07-4e4c9ba9ec7c",
   "metadata": {},
   "source": [
    "- actor, critic, reference, reward\n",
    "    - 早期的 trl ppov1 实现，colocate actor/critic\n",
    "        - critic a mlp head;"
   ]
  },
  {
   "cell_type": "code",
   "execution_count": 3,
   "id": "b20402e6-d988-4738-b7df-bb2d070b7487",
   "metadata": {
    "execution": {
     "iopub.execute_input": "2025-02-17T14:46:04.627899Z",
     "iopub.status.busy": "2025-02-17T14:46:04.627285Z",
     "iopub.status.idle": "2025-02-17T14:46:04.639430Z",
     "shell.execute_reply": "2025-02-17T14:46:04.637342Z",
     "shell.execute_reply.started": "2025-02-17T14:46:04.627852Z"
    }
   },
   "outputs": [
    {
     "data": {
      "text/html": [
       "<img src=\"./imgs/openrlhf_ppo.png\" width=\"500\"/>"
      ],
      "text/plain": [
       "<IPython.core.display.Image object>"
      ]
     },
     "execution_count": 3,
     "metadata": {},
     "output_type": "execute_result"
    }
   ],
   "source": [
    "Image(url='./imgs/openrlhf_ppo.png', width=500)"
   ]
  },
  {
   "cell_type": "code",
   "execution_count": 4,
   "id": "d80fe8b6-7539-4201-b09e-eabed4222f2f",
   "metadata": {
    "execution": {
     "iopub.execute_input": "2025-02-17T14:47:22.185745Z",
     "iopub.status.busy": "2025-02-17T14:47:22.185167Z",
     "iopub.status.idle": "2025-02-17T14:47:22.198500Z",
     "shell.execute_reply": "2025-02-17T14:47:22.196344Z",
     "shell.execute_reply.started": "2025-02-17T14:47:22.185700Z"
    }
   },
   "outputs": [
    {
     "data": {
      "text/html": [
       "<img src=\"./imgs/openrlhf_flow.png\" width=\"500\"/>"
      ],
      "text/plain": [
       "<IPython.core.display.Image object>"
      ]
     },
     "execution_count": 4,
     "metadata": {},
     "output_type": "execute_result"
    }
   ],
   "source": [
    "Image(url='./imgs/openrlhf_flow.png', width=500)"
   ]
  },
  {
   "cell_type": "markdown",
   "id": "228a2b30-d6d2-4c68-bd38-afcfbc41f70c",
   "metadata": {},
   "source": [
    "### scripts"
   ]
  },
  {
   "cell_type": "markdown",
   "id": "21a58614-9444-4b07-a925-bc68dacd4fb9",
   "metadata": {},
   "source": [
    "- openrlhf.cli.train_ppo_ray\n",
    "    - actor_num_gpus_per_node\n",
    "    - ref_num_gpus_per_node\n",
    "    - critic_num_gpus_per_node（经典 ppo，GRPO/RLOO 不再需要）\n",
    "    - reward_num_gpus_per_node（经典 ppo，GRPO/RLOO 不再需要）\n",
    "    - vllm_num_engines"
   ]
  }
 ],
 "metadata": {
  "kernelspec": {
   "display_name": "Python 3 (ipykernel)",
   "language": "python",
   "name": "python3"
  },
  "language_info": {
   "codemirror_mode": {
    "name": "ipython",
    "version": 3
   },
   "file_extension": ".py",
   "mimetype": "text/x-python",
   "name": "python",
   "nbconvert_exporter": "python",
   "pygments_lexer": "ipython3",
   "version": "3.10.13"
  }
 },
 "nbformat": 4,
 "nbformat_minor": 5
}
