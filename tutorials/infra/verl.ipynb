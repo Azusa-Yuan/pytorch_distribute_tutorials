{
 "cells": [
  {
   "cell_type": "markdown",
   "id": "abb84bf4-e0f3-41e8-bcd1-8140dc41634a",
   "metadata": {},
   "source": [
    "- https://github.com/volcengine/verl.git\n",
    "    - https://verl.readthedocs.io/en/latest/start/quickstart.html\n",
    "- 默认用 fsdp 的分布式"
   ]
  },
  {
   "cell_type": "markdown",
   "id": "0730b45b-5031-4c9f-b727-c9c5d06054cb",
   "metadata": {},
   "source": [
    "## conpoments"
   ]
  },
  {
   "cell_type": "markdown",
   "id": "49d5429e-8f02-443a-94ba-32e6d39e026d",
   "metadata": {},
   "source": [
    "- trainer, rollout, data,\n",
    "    - `When rollout.temperature=0, data.n_samples must be 1.`\n",
    "    - rollout.name\n",
    "        - hf: tgi\n",
    "        - vllm\n",
    "- role\n",
    "    - `'actor', 'rollout', 'ref', 'actor_rollout', 'actor_rollout_ref'`"
   ]
  },
  {
   "cell_type": "markdown",
   "id": "5a854470-0a51-4e48-a8af-c1bb51b39cfa",
   "metadata": {},
   "source": [
    "## quickstart"
   ]
  },
  {
   "cell_type": "markdown",
   "id": "c7dfccf5-5e09-4b0d-861b-ccf3ed58d311",
   "metadata": {},
   "source": [
    "- ppo\n",
    "    - actor_rollout_ref.model.path=Qwen/Qwen2.5-0.5B-Instruct \\\n",
    "    - critic.model.path=Qwen/Qwen2.5-0.5B-Instruct \\\n",
    "    - pre-defined rule-based reward model.\n",
    "        - https://github.com/volcengine/verl/blob/v0.1/verl/utils/reward_score/gsm8k.py"
   ]
  },
  {
   "cell_type": "markdown",
   "id": "fdcdbeff-e7e8-4bc7-a2ab-ab73083dc34f",
   "metadata": {},
   "source": [
    "## main_generation"
   ]
  },
  {
   "cell_type": "markdown",
   "id": "2e8f1699-1be1-49b5-9d2d-c6668fb904e2",
   "metadata": {},
   "source": [
    "```\n",
    "python3 -m verl.trainer.main_generation \\\n",
    "        trainer.nnodes=1 \\\n",
    "        trainer.n_gpus_per_node=2 \\\n",
    "        data.path=$HOME/data/gsm8k/test.parquet \\\n",
    "        data.output_path=$HOME/data/gsm8k/gsm_q_0.5.parquet \\\n",
    "        data.n_samples=1 \\\n",
    "        data.batch_size=1 \\\n",
    "        model.path=Qwen/Qwen2.5-0.5B-Instruct \\\n",
    "        rollout.temperature=0.6 \\\n",
    "        rollout.response_length=32768 \\\n",
    "        rollout.top_k=-1 \\\n",
    "        rollout.top_p=0.95 \\\n",
    "        rollout.gpu_memory_utilization=0.9 \\\n",
    "        rollout.tensor_model_parallel_size=1\n",
    "```"
   ]
  }
 ],
 "metadata": {
  "kernelspec": {
   "display_name": "Python 3 (ipykernel)",
   "language": "python",
   "name": "python3"
  },
  "language_info": {
   "codemirror_mode": {
    "name": "ipython",
    "version": 3
   },
   "file_extension": ".py",
   "mimetype": "text/x-python",
   "name": "python",
   "nbconvert_exporter": "python",
   "pygments_lexer": "ipython3",
   "version": "3.10.13"
  }
 },
 "nbformat": 4,
 "nbformat_minor": 5
}
