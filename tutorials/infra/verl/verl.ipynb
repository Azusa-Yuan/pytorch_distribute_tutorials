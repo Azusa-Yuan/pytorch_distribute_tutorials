{
 "cells": [
  {
   "cell_type": "code",
   "execution_count": 1,
   "id": "17d4d698-8acb-4b2e-b4af-dff1e9d860cc",
   "metadata": {
    "execution": {
     "iopub.execute_input": "2025-02-17T15:27:20.326048Z",
     "iopub.status.busy": "2025-02-17T15:27:20.325546Z",
     "iopub.status.idle": "2025-02-17T15:27:20.335766Z",
     "shell.execute_reply": "2025-02-17T15:27:20.333493Z",
     "shell.execute_reply.started": "2025-02-17T15:27:20.326005Z"
    }
   },
   "outputs": [],
   "source": [
    "from IPython.display import Image"
   ]
  },
  {
   "cell_type": "markdown",
   "id": "abb84bf4-e0f3-41e8-bcd1-8140dc41634a",
   "metadata": {},
   "source": [
    "- https://github.com/volcengine/verl.git\n",
    "    - https://verl.readthedocs.io/en/latest/start/quickstart.html\n",
    "- 默认用 fsdp 的分布式\n",
    "- RL dataflow\n",
    "    - trajectory sample\n",
    "    - loss function"
   ]
  },
  {
   "cell_type": "markdown",
   "id": "f7642e46-8469-4b55-bd65-624829dfece7",
   "metadata": {},
   "source": [
    "## basics"
   ]
  },
  {
   "cell_type": "markdown",
   "id": "31861ef7-8fc2-479e-b820-84909ab16361",
   "metadata": {},
   "source": [
    "### single controller vs. multi controller"
   ]
  },
  {
   "cell_type": "code",
   "execution_count": 4,
   "id": "bc84e544-e748-4680-9da9-d144813c2930",
   "metadata": {
    "execution": {
     "iopub.execute_input": "2025-02-17T15:27:37.885991Z",
     "iopub.status.busy": "2025-02-17T15:27:37.885390Z",
     "iopub.status.idle": "2025-02-17T15:27:37.897963Z",
     "shell.execute_reply": "2025-02-17T15:27:37.895908Z",
     "shell.execute_reply.started": "2025-02-17T15:27:37.885948Z"
    }
   },
   "outputs": [
    {
     "data": {
      "text/html": [
       "<img src=\"./imgs/controlers.png\" width=\"600\"/>"
      ],
      "text/plain": [
       "<IPython.core.display.Image object>"
      ]
     },
     "execution_count": 4,
     "metadata": {},
     "output_type": "execute_result"
    }
   ],
   "source": [
    "Image(url='./imgs/controlers.png', width=600)"
   ]
  },
  {
   "cell_type": "code",
   "execution_count": 15,
   "id": "31f179e1-df43-4c45-87fb-768246b319a6",
   "metadata": {
    "execution": {
     "iopub.execute_input": "2025-02-17T15:37:47.394075Z",
     "iopub.status.busy": "2025-02-17T15:37:47.393564Z",
     "iopub.status.idle": "2025-02-17T15:37:47.467463Z",
     "shell.execute_reply": "2025-02-17T15:37:47.465374Z",
     "shell.execute_reply.started": "2025-02-17T15:37:47.394036Z"
    }
   },
   "outputs": [
    {
     "name": "stdout",
     "output_type": "stream",
     "text": [
      "236979: 3236978: 2236980: 4236977: 1\n",
      "\n",
      "\n",
      "\n",
      "236978: 5\n",
      "[1, 4, 9, 16, 25]\n"
     ]
    }
   ],
   "source": [
    "import multiprocessing\n",
    "import os\n",
    "def process_data(data):\n",
    "    # 处理数据的代码（例如，每个计算单元处理不同的数值）\n",
    "    pid = os.getpid()\n",
    "    print(f'{pid}: {data}')\n",
    "    return data ** 2\n",
    "\n",
    "def main():\n",
    "    # 假设我们有多个数据项，每个进程处理一个数据项\n",
    "    data = [1, 2, 3, 4, 5]\n",
    "    # SPMD\n",
    "    # 使用multiprocessing Pool来并行处理\n",
    "    with multiprocessing.Pool(processes=4) as pool:\n",
    "        results = pool.map(process_data, data)\n",
    "    \n",
    "    print(results)\n",
    "\n",
    "main()"
   ]
  },
  {
   "cell_type": "markdown",
   "id": "0730b45b-5031-4c9f-b727-c9c5d06054cb",
   "metadata": {},
   "source": [
    "## conpoments"
   ]
  },
  {
   "cell_type": "code",
   "execution_count": 17,
   "id": "a05786b0-41e1-4aa2-ac0d-ed6a82451a8b",
   "metadata": {
    "execution": {
     "iopub.execute_input": "2025-02-17T15:47:33.075362Z",
     "iopub.status.busy": "2025-02-17T15:47:33.074750Z",
     "iopub.status.idle": "2025-02-17T15:47:33.088817Z",
     "shell.execute_reply": "2025-02-17T15:47:33.086677Z",
     "shell.execute_reply.started": "2025-02-17T15:47:33.075316Z"
    }
   },
   "outputs": [
    {
     "data": {
      "text/html": [
       "<img src=\"./imgs/verl_components.png\" width=\"500\"/>"
      ],
      "text/plain": [
       "<IPython.core.display.Image object>"
      ]
     },
     "execution_count": 17,
     "metadata": {},
     "output_type": "execute_result"
    }
   ],
   "source": [
    "Image(url='./imgs/verl_components.png', width=500)"
   ]
  },
  {
   "cell_type": "markdown",
   "id": "49d5429e-8f02-443a-94ba-32e6d39e026d",
   "metadata": {},
   "source": [
    "- trainer, rollout, data,\n",
    "    - `When rollout.temperature=0, data.n_samples must be 1.`\n",
    "    - rollout.name\n",
    "        - hf: tgi\n",
    "        - vllm\n",
    "- role\n",
    "    - `'actor', 'rollout', 'ref', 'actor_rollout', 'actor_rollout_ref'`"
   ]
  },
  {
   "cell_type": "markdown",
   "id": "f51a3d04-4503-45d3-82e0-a3084cadb09f",
   "metadata": {},
   "source": [
    "### single process controller"
   ]
  },
  {
   "cell_type": "markdown",
   "id": "73418c35-4f2f-4c0d-aefa-c2149bd34f19",
   "metadata": {},
   "source": [
    "```\n",
    "# RLHF Single Process Controller\n",
    "\n",
    "# initialize worker groups\n",
    "actor_wg = ...\n",
    "critic_wg = ...\n",
    "ref_wg = ...\n",
    "reward_wg = ...\n",
    "\n",
    "# ppo actor/rollout\n",
    "for prompt_batch in dataloader:\n",
    "    batch = actor_wg.generate_sequences(prompt_batch)\n",
    "    values = critic_wg.compute_values(batch)\n",
    "    ref_log_prob = ref_wg.compute_log_prob(batch)\n",
    "    score = reward_wg.compute_reward(batch)\n",
    "    returns, advantage = compute_advantage(score, ref_log_prob, values)\n",
    "    actor_wg.update(batch, advantage)\n",
    "    critic_wg.update(batch, returns)\n",
    "\n",
    "```"
   ]
  },
  {
   "cell_type": "code",
   "execution_count": 18,
   "id": "800ee7ce-003f-4525-ba7b-b8014909dfc2",
   "metadata": {
    "execution": {
     "iopub.execute_input": "2025-02-17T15:51:31.016756Z",
     "iopub.status.busy": "2025-02-17T15:51:31.016187Z",
     "iopub.status.idle": "2025-02-17T15:51:31.029035Z",
     "shell.execute_reply": "2025-02-17T15:51:31.026966Z",
     "shell.execute_reply.started": "2025-02-17T15:51:31.016711Z"
    }
   },
   "outputs": [
    {
     "data": {
      "text/html": [
       "<img src=\"./imgs/generalized_hybrid_engine.png\" width=\"500\"/>"
      ],
      "text/plain": [
       "<IPython.core.display.Image object>"
      ]
     },
     "execution_count": 18,
     "metadata": {},
     "output_type": "execute_result"
    }
   ],
   "source": [
    "Image(url='./imgs/generalized_hybrid_engine.png', width=500)"
   ]
  },
  {
   "cell_type": "markdown",
   "id": "5a854470-0a51-4e48-a8af-c1bb51b39cfa",
   "metadata": {},
   "source": [
    "## quickstart"
   ]
  },
  {
   "cell_type": "markdown",
   "id": "c7dfccf5-5e09-4b0d-861b-ccf3ed58d311",
   "metadata": {},
   "source": [
    "- ppo\n",
    "    - actor_rollout_ref.model.path=Qwen/Qwen2.5-0.5B-Instruct \\\n",
    "    - critic.model.path=Qwen/Qwen2.5-0.5B-Instruct \\\n",
    "    - pre-defined rule-based reward model.\n",
    "        - https://github.com/volcengine/verl/blob/v0.1/verl/utils/reward_score/gsm8k.py"
   ]
  },
  {
   "cell_type": "markdown",
   "id": "fdcdbeff-e7e8-4bc7-a2ab-ab73083dc34f",
   "metadata": {},
   "source": [
    "## main_generation"
   ]
  },
  {
   "cell_type": "markdown",
   "id": "2e8f1699-1be1-49b5-9d2d-c6668fb904e2",
   "metadata": {},
   "source": [
    "```\n",
    "python3 -m verl.trainer.main_generation \\\n",
    "        trainer.nnodes=1 \\\n",
    "        trainer.n_gpus_per_node=2 \\\n",
    "        data.path=$HOME/data/gsm8k/test.parquet \\\n",
    "        data.output_path=$HOME/data/gsm8k/gsm_q_0.5.parquet \\\n",
    "        data.n_samples=1 \\\n",
    "        data.batch_size=1 \\\n",
    "        model.path=Qwen/Qwen2.5-0.5B-Instruct \\\n",
    "        rollout.temperature=0.6 \\\n",
    "        rollout.response_length=32768 \\\n",
    "        rollout.top_k=-1 \\\n",
    "        rollout.top_p=0.95 \\\n",
    "        rollout.gpu_memory_utilization=0.9 \\\n",
    "        rollout.tensor_model_parallel_size=1\n",
    "```"
   ]
  }
 ],
 "metadata": {
  "kernelspec": {
   "display_name": "Python 3 (ipykernel)",
   "language": "python",
   "name": "python3"
  },
  "language_info": {
   "codemirror_mode": {
    "name": "ipython",
    "version": 3
   },
   "file_extension": ".py",
   "mimetype": "text/x-python",
   "name": "python",
   "nbconvert_exporter": "python",
   "pygments_lexer": "ipython3",
   "version": "3.10.13"
  }
 },
 "nbformat": 4,
 "nbformat_minor": 5
}
