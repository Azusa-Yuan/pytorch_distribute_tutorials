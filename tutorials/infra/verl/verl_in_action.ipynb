{
 "cells": [
  {
   "cell_type": "markdown",
   "id": "9670ead9-5fd4-4d06-ba18-c973d1e5a020",
   "metadata": {},
   "source": [
    "- https://github.com/zhaochenyang20/Awesome-ML-SYS-Tutorial/blob/main/rlhf/verl/readme.md"
   ]
  },
  {
   "cell_type": "markdown",
   "id": "ac1e4848-0513-498e-ba5a-ae73210fb490",
   "metadata": {},
   "source": [
    "### 核心源码"
   ]
  },
  {
   "cell_type": "markdown",
   "id": "3e3fe075-9ed9-435e-8d82-2e60b0bb7484",
   "metadata": {},
   "source": [
    "```python\n",
    "trainer = RayPPOTrainer(config=config,\n",
    "                        tokenizer=tokenizer,\n",
    "                        role_worker_mapping=role_worker_mapping,\n",
    "                        resource_pool_manager=resource_pool_manager,\n",
    "                        ray_worker_group_cls=ray_worker_group_cls,\n",
    "                        reward_fn=reward_fn,\n",
    "                        val_reward_fn=val_reward_fn)\n",
    "trainer.init_workers()\n",
    "trainer.fit()\n",
    "```\n",
    "\n",
    "- **RayPPOTrainer**\n",
    "    - **init_workers**：设置 worker group（`WorkerGroup`）\n",
    "        - 多个 worker 共享资源，实际是跑在一个进程中的。\n",
    "        - `actor_rollout_wg` （`ActorRolloutRefWorker`）\n",
    "            - generate_sequences\n",
    "            - compute_log_prob\n",
    "        - `ref_policy_wg`（`ActorRolloutRefWorker`）\n",
    "            - compute_ref_log_prob\n",
    "        - `critic_wg`（`CriticWorker`）\n",
    "        - `rm_wg`（`RewardModelWorker`）\n",
    "    - **fit**\n",
    "\n",
    "```python\n",
    "def fit():\n",
    "    # Training loop\n",
    "    for epoch in range(total_epochs):\n",
    "        for batch in dataloader:  \n",
    "            # batch: input_ids, attention_mask, position_ids\n",
    "\n",
    "            sequences = actor_rollout_wg.generate_sequences(batch)   # no_grad\n",
    "            # batch: input_ids, attention_mask, position_ids, prompts, responses\n",
    "            # (现在input_ids,attention_mask,position_id涵盖整个prompts+responses)\n",
    "            batch = batch.repeat().union(sequence)  # 相当于每个response复制了n份\n",
    "\n",
    "            log_probs = actor_rollout_wg.compute_log_prob(batch)   # no_grad\n",
    "            # batch: +log_probs(per sequence)\n",
    "\n",
    "            ref_policy_wg.compute_ref_log_prob(batch)  # no_grad\n",
    "            # batch: +ref_log_prob(per sequence)\n",
    "\n",
    "            values = critic_wg.compute_values(batch)  # no_grad\n",
    "            # batch: +values(per token)\n",
    "\n",
    "            rewards = rm_wg.compute_rm_score(batch)  # no_grad\n",
    "            reward_tensor = self.reward_fn(batch)  # rule based\n",
    "            # batch: +rm_scores(per token), token_level_scores(per token)\n",
    "\n",
    "            apply_kl_penalty(...)  # no_grad\n",
    "            # batch: +token_level_rewards\n",
    "\n",
    "            advantages = compute_advantage(batch)  # 本地运行\n",
    "            # batch: +advantage(per token), returns(per token)\n",
    "\n",
    "            critic_wg.update_critic(batch)\n",
    "            actor_rollout_wg.update_actor(batch)\n",
    "```\n"
   ]
  },
  {
   "cell_type": "markdown",
   "id": "2abbee28-de14-457e-9332-611ddd2f97b8",
   "metadata": {},
   "source": [
    "## parameters"
   ]
  },
  {
   "cell_type": "markdown",
   "id": "ee191667-8175-4998-9736-ffe750d56848",
   "metadata": {},
   "source": [
    "### actor_rollout_ref.actor"
   ]
  },
  {
   "cell_type": "markdown",
   "id": "ac0ed575-d882-42c3-955a-ace55f00f368",
   "metadata": {},
   "source": [
    "- ppo_mini_batch_size、ppo_micro_batch_size_per_gpu\n",
    "    - 出现在 update policy 时；\n",
    "    - ppo_mini_batch_size\n",
    "    - ppo_mini_batch_size//ppo_micro_batch_size_per_gpu：相当于 gradient accumulation"
   ]
  },
  {
   "cell_type": "markdown",
   "id": "241713e8-b94f-4675-a9b9-c751de8dc2b1",
   "metadata": {},
   "source": [
    "### actor_rollout_ref.rollout"
   ]
  },
  {
   "cell_type": "markdown",
   "id": "92d8353e-d1fd-4c4b-a662-bdac892365da",
   "metadata": {},
   "source": [
    "> vllm 相关的参数？\n",
    "\n",
    "- name\n",
    "- gpu_memory_utilization\n",
    "- tensor_model_parallel_size\n",
    "- n"
   ]
  }
 ],
 "metadata": {
  "kernelspec": {
   "display_name": "Python 3 (ipykernel)",
   "language": "python",
   "name": "python3"
  },
  "language_info": {
   "codemirror_mode": {
    "name": "ipython",
    "version": 3
   },
   "file_extension": ".py",
   "mimetype": "text/x-python",
   "name": "python",
   "nbconvert_exporter": "python",
   "pygments_lexer": "ipython3",
   "version": "3.10.13"
  }
 },
 "nbformat": 4,
 "nbformat_minor": 5
}
