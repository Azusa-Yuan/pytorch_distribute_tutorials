{
 "cells": [
  {
   "cell_type": "markdown",
   "id": "3a31430c",
   "metadata": {},
   "source": [
    "## basics"
   ]
  },
  {
   "cell_type": "markdown",
   "id": "a174f9ee",
   "metadata": {},
   "source": [
    "- ZeRO: Memory Optimizations Toward Training Trillion Parameter Models\n",
    "    - https://arxiv.org/abs/1910.02054\n",
    "- DeepSpeed\n",
    "    - Optimizer state partitioning (ZeRO stage 1)\n",
    "    - Gradient partitioning (ZeRO stage 2)\n",
    "    - Parameter partitioning (ZeRO stage 3)\n",
    "    - Custom mixed precision training handling\n",
    "    - A range of fast CUDA-extension-based optimizers\n",
    "    - ZeRO-Offload to CPU and NVMe"
   ]
  }
 ],
 "metadata": {
  "kernelspec": {
   "display_name": "Python 3 (ipykernel)",
   "language": "python",
   "name": "python3"
  },
  "language_info": {
   "codemirror_mode": {
    "name": "ipython",
    "version": 3
   },
   "file_extension": ".py",
   "mimetype": "text/x-python",
   "name": "python",
   "nbconvert_exporter": "python",
   "pygments_lexer": "ipython3",
   "version": "3.10.13"
  },
  "toc": {
   "base_numbering": 1,
   "nav_menu": {},
   "number_sections": true,
   "sideBar": true,
   "skip_h1_title": false,
   "title_cell": "Table of Contents",
   "title_sidebar": "Contents",
   "toc_cell": false,
   "toc_position": {},
   "toc_section_display": true,
   "toc_window_display": false
  }
 },
 "nbformat": 4,
 "nbformat_minor": 5
}
