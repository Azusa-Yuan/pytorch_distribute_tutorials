{
 "cells": [
  {
   "cell_type": "code",
   "execution_count": 9,
   "id": "c914894f",
   "metadata": {
    "ExecuteTime": {
     "end_time": "2024-02-25T03:24:36.325836Z",
     "start_time": "2024-02-25T03:24:36.320080Z"
    }
   },
   "outputs": [],
   "source": [
    "import torch\n",
    "from IPython.display import Image"
   ]
  },
  {
   "cell_type": "code",
   "execution_count": 2,
   "id": "f5802785",
   "metadata": {
    "ExecuteTime": {
     "end_time": "2024-02-25T03:18:47.186410Z",
     "start_time": "2024-02-25T03:18:47.152188Z"
    }
   },
   "outputs": [],
   "source": [
    "scaler = torch.cuda.amp.GradScaler()"
   ]
  },
  {
   "cell_type": "markdown",
   "id": "6626cee6",
   "metadata": {},
   "source": [
    "## demo"
   ]
  },
  {
   "cell_type": "code",
   "execution_count": 13,
   "id": "45bddf8e",
   "metadata": {
    "ExecuteTime": {
     "end_time": "2024-02-25T03:25:15.057412Z",
     "start_time": "2024-02-25T03:25:15.036416Z"
    }
   },
   "outputs": [
    {
     "name": "stdout",
     "output_type": "stream",
     "text": [
      "in autocast torch.float16 cuda:0\n",
      "in autocast torch.float16 cuda:0\n",
      "out autocast torch.float32 cuda:0\n"
     ]
    }
   ],
   "source": [
    "# Creates some tensors in default dtype (here assumed to be float32)\n",
    "a_float32 = torch.rand((8, 8), device=\"cuda\")\n",
    "b_float32 = torch.rand((8, 8), device=\"cuda\")\n",
    "c_float32 = torch.rand((8, 8), device=\"cuda\")\n",
    "d_float32 = torch.rand((8, 8), device=\"cuda\")\n",
    "\n",
    "# with torch.autocast(device_type=\"cuda\"):\n",
    "with torch.cuda.amp.autocast():\n",
    "    # torch.mm is on autocast's list of ops that should run in float16.\n",
    "    # Inputs are float32, but the op runs in float16 and produces float16 output.\n",
    "    # No manual casts are required.\n",
    "    e_float16 = torch.mm(a_float32, b_float32)\n",
    "    print('in autocast', e_float16.dtype, e_float16.device)\n",
    "    # Also handles mixed input types\n",
    "    f_float16 = torch.mm(d_float32, e_float16)\n",
    "    print('in autocast', f_float16.dtype, e_float16.device)\n",
    "\n",
    "# After exiting autocast, calls f_float16.float() to use with d_float32\n",
    "g_float32 = torch.mm(d_float32, f_float16.float())\n",
    "print('out autocast', g_float32.dtype, g_float32.device)"
   ]
  },
  {
   "cell_type": "markdown",
   "id": "4397d1eb",
   "metadata": {},
   "source": [
    "## basics"
   ]
  },
  {
   "cell_type": "code",
   "execution_count": 16,
   "id": "8131b97c",
   "metadata": {
    "ExecuteTime": {
     "end_time": "2024-02-25T04:05:41.006395Z",
     "start_time": "2024-02-25T04:05:40.996270Z"
    }
   },
   "outputs": [
    {
     "data": {
      "text/html": [
       "<img src=\"../imgs/fp32-fp16.png\" width=\"600\"/>"
      ],
      "text/plain": [
       "<IPython.core.display.Image object>"
      ]
     },
     "execution_count": 16,
     "metadata": {},
     "output_type": "execute_result"
    }
   ],
   "source": [
    "Image(url='../imgs/fp32-fp16.png', width=600)"
   ]
  },
  {
   "cell_type": "markdown",
   "id": "5062e9df",
   "metadata": {},
   "source": [
    "- fp32 vs. fp16\n",
    "- fp16 is fast and memory-efficient；\n",
    "    - 更快的 compute throughout （8x）\n",
    "    - 更高的 memory throughout (2x)\n",
    "    - 更小的显存占用 (1/2x)\n",
    "- fp32 offers precison and range benefits.\n",
    "- 因此需要混合；\n",
    "    - 需要 fp32 的场景：\n",
    "        - reductions，exponentiation；\n",
    "        - large + small：weight updates, reductions again;\n",
    "            - 1+0.0001"
   ]
  },
  {
   "cell_type": "code",
   "execution_count": 21,
   "id": "cc6c9481",
   "metadata": {
    "ExecuteTime": {
     "end_time": "2024-02-25T04:06:55.566118Z",
     "start_time": "2024-02-25T04:06:55.550943Z"
    }
   },
   "outputs": [
    {
     "data": {
      "text/plain": [
       "tensor(inf, device='cuda:0', dtype=torch.float16)"
      ]
     },
     "execution_count": 21,
     "metadata": {},
     "output_type": "execute_result"
    }
   ],
   "source": [
    "# torch.float16\n",
    "a = torch.cuda.HalfTensor(4096)\n",
    "# 4096 * 16\n",
    "a.fill_(16)\n",
    "a.sum()"
   ]
  },
  {
   "cell_type": "code",
   "execution_count": 25,
   "id": "e5b23d1f",
   "metadata": {
    "ExecuteTime": {
     "end_time": "2024-02-25T04:07:39.147757Z",
     "start_time": "2024-02-25T04:07:39.133516Z"
    }
   },
   "outputs": [
    {
     "data": {
      "text/plain": [
       "tensor(65536., device='cuda:0')"
      ]
     },
     "execution_count": 25,
     "metadata": {},
     "output_type": "execute_result"
    }
   ],
   "source": [
    "# torch.float32\n",
    "b = torch.cuda.FloatTensor(4096)\n",
    "# 4096 * 16\n",
    "b.fill_(16)\n",
    "b.sum()"
   ]
  },
  {
   "cell_type": "code",
   "execution_count": 26,
   "id": "aff630fa",
   "metadata": {
    "ExecuteTime": {
     "end_time": "2024-02-25T04:10:03.056778Z",
     "start_time": "2024-02-25T04:10:03.027389Z"
    }
   },
   "outputs": [
    {
     "data": {
      "text/plain": [
       "tensor([1.], device='cuda:0', dtype=torch.float16)"
      ]
     },
     "execution_count": 26,
     "metadata": {},
     "output_type": "execute_result"
    }
   ],
   "source": [
    "para = torch.cuda.HalfTensor([1.])\n",
    "update = torch.cuda.HalfTensor([.0001])\n",
    "para + update"
   ]
  },
  {
   "cell_type": "code",
   "execution_count": 27,
   "id": "f79eda0f",
   "metadata": {
    "ExecuteTime": {
     "end_time": "2024-02-25T04:10:19.909611Z",
     "start_time": "2024-02-25T04:10:19.895850Z"
    }
   },
   "outputs": [
    {
     "data": {
      "text/plain": [
       "tensor([1.0001], device='cuda:0')"
      ]
     },
     "execution_count": 27,
     "metadata": {},
     "output_type": "execute_result"
    }
   ],
   "source": [
    "para = torch.cuda.FloatTensor([1.])\n",
    "update = torch.cuda.FloatTensor([.0001])\n",
    "para + update"
   ]
  },
  {
   "cell_type": "code",
   "execution_count": 28,
   "id": "85718bae",
   "metadata": {
    "ExecuteTime": {
     "end_time": "2024-02-25T04:13:44.029851Z",
     "start_time": "2024-02-25T04:13:44.019395Z"
    }
   },
   "outputs": [
    {
     "data": {
      "text/html": [
       "<img src=\"../imgs/amp_32_16.png\" width=\"600\"/>"
      ],
      "text/plain": [
       "<IPython.core.display.Image object>"
      ]
     },
     "execution_count": 28,
     "metadata": {},
     "output_type": "execute_result"
    }
   ],
   "source": [
    "Image(url='../imgs/amp_32_16.png', width=600)"
   ]
  },
  {
   "cell_type": "markdown",
   "id": "d65bd188",
   "metadata": {},
   "source": [
    "## loss scaling"
   ]
  },
  {
   "cell_type": "markdown",
   "id": "aae01977",
   "metadata": {},
   "source": [
    "```\n",
    "scaler = GradScaler()\n",
    "\n",
    "# forward\n",
    "with autocast():\n",
    "    output = model(input)\n",
    "    loss = loss_fn(output, target)\n",
    "\n",
    "# backward\n",
    "scaler.scale(loss).backward()\n",
    "scaler.step(optimizer)\n",
    "scaler.update()\n",
    "```"
   ]
  },
  {
   "cell_type": "markdown",
   "id": "c59186d9",
   "metadata": {},
   "source": [
    "- 针对的是 loss（loss scaling）\n",
    "- gradients 的两个版本，见下图\n",
    "    - fp16 gradients\n",
    "    - fp32 gradients"
   ]
  },
  {
   "cell_type": "code",
   "execution_count": 4,
   "id": "6765668d",
   "metadata": {
    "ExecuteTime": {
     "end_time": "2024-02-25T03:19:13.164944Z",
     "start_time": "2024-02-25T03:19:13.148430Z"
    }
   },
   "outputs": [
    {
     "data": {
      "text/html": [
       "<img src=\"https://blog.paperspace.com/content/images/2022/05/image-16.png\" width=\"400\"/>"
      ],
      "text/plain": [
       "<IPython.core.display.Image object>"
      ]
     },
     "execution_count": 4,
     "metadata": {},
     "output_type": "execute_result"
    }
   ],
   "source": [
    "Image(url='https://blog.paperspace.com/content/images/2022/05/image-16.png', width=400)"
   ]
  }
 ],
 "metadata": {
  "kernelspec": {
   "display_name": "Python 3 (ipykernel)",
   "language": "python",
   "name": "python3"
  },
  "language_info": {
   "codemirror_mode": {
    "name": "ipython",
    "version": 3
   },
   "file_extension": ".py",
   "mimetype": "text/x-python",
   "name": "python",
   "nbconvert_exporter": "python",
   "pygments_lexer": "ipython3",
   "version": "3.10.13"
  },
  "toc": {
   "base_numbering": 1,
   "nav_menu": {},
   "number_sections": true,
   "sideBar": true,
   "skip_h1_title": false,
   "title_cell": "Table of Contents",
   "title_sidebar": "Contents",
   "toc_cell": false,
   "toc_position": {},
   "toc_section_display": true,
   "toc_window_display": false
  }
 },
 "nbformat": 4,
 "nbformat_minor": 5
}
