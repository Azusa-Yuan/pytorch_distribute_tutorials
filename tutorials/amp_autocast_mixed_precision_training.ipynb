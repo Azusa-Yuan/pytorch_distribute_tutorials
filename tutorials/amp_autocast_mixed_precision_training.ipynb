{
 "cells": [
  {
   "cell_type": "code",
   "execution_count": 9,
   "id": "c914894f",
   "metadata": {
    "ExecuteTime": {
     "end_time": "2024-02-25T03:24:36.325836Z",
     "start_time": "2024-02-25T03:24:36.320080Z"
    }
   },
   "outputs": [],
   "source": [
    "import torch\n",
    "from IPython.display import Image"
   ]
  },
  {
   "cell_type": "code",
   "execution_count": 2,
   "id": "f5802785",
   "metadata": {
    "ExecuteTime": {
     "end_time": "2024-02-25T03:18:47.186410Z",
     "start_time": "2024-02-25T03:18:47.152188Z"
    }
   },
   "outputs": [],
   "source": [
    "scaler = torch.cuda.amp.GradScaler()"
   ]
  },
  {
   "cell_type": "markdown",
   "id": "107ced84",
   "metadata": {},
   "source": [
    "## demo"
   ]
  },
  {
   "cell_type": "code",
   "execution_count": 13,
   "id": "db761cd0",
   "metadata": {
    "ExecuteTime": {
     "end_time": "2024-02-25T03:25:15.057412Z",
     "start_time": "2024-02-25T03:25:15.036416Z"
    }
   },
   "outputs": [
    {
     "name": "stdout",
     "output_type": "stream",
     "text": [
      "in autocast torch.float16 cuda:0\n",
      "in autocast torch.float16 cuda:0\n",
      "out autocast torch.float32 cuda:0\n"
     ]
    }
   ],
   "source": [
    "# Creates some tensors in default dtype (here assumed to be float32)\n",
    "a_float32 = torch.rand((8, 8), device=\"cuda\")\n",
    "b_float32 = torch.rand((8, 8), device=\"cuda\")\n",
    "c_float32 = torch.rand((8, 8), device=\"cuda\")\n",
    "d_float32 = torch.rand((8, 8), device=\"cuda\")\n",
    "\n",
    "# with torch.autocast(device_type=\"cuda\"):\n",
    "with torch.cuda.amp.autocast():\n",
    "    # torch.mm is on autocast's list of ops that should run in float16.\n",
    "    # Inputs are float32, but the op runs in float16 and produces float16 output.\n",
    "    # No manual casts are required.\n",
    "    e_float16 = torch.mm(a_float32, b_float32)\n",
    "    print('in autocast', e_float16.dtype, e_float16.device)\n",
    "    # Also handles mixed input types\n",
    "    f_float16 = torch.mm(d_float32, e_float16)\n",
    "    print('in autocast', f_float16.dtype, e_float16.device)\n",
    "\n",
    "# After exiting autocast, calls f_float16.float() to use with d_float32\n",
    "g_float32 = torch.mm(d_float32, f_float16.float())\n",
    "print('out autocast', g_float32.dtype, g_float32.device)"
   ]
  },
  {
   "cell_type": "markdown",
   "id": "b03d741b",
   "metadata": {},
   "source": [
    "## loss scaling"
   ]
  },
  {
   "cell_type": "markdown",
   "id": "fc607e2b",
   "metadata": {},
   "source": [
    "```\n",
    "# forward\n",
    "with torch.cuda.amp.autocast():\n",
    "    logits = model(batch_x)\n",
    "    loss = criterion(logits, batch_y)\n",
    "\n",
    "# backward\n",
    "optimizer.zero_grad()\n",
    "# loss scaling\n",
    "scaler.scale(loss).backward()\n",
    "```"
   ]
  },
  {
   "cell_type": "markdown",
   "id": "56f912f0",
   "metadata": {},
   "source": [
    "- 针对的是 loss（loss scaling）\n",
    "- gradients 的两个版本，见下图\n",
    "    - fp16 gradients\n",
    "    - fp32 gradients"
   ]
  },
  {
   "cell_type": "code",
   "execution_count": 4,
   "id": "6765668d",
   "metadata": {
    "ExecuteTime": {
     "end_time": "2024-02-25T03:19:13.164944Z",
     "start_time": "2024-02-25T03:19:13.148430Z"
    }
   },
   "outputs": [
    {
     "data": {
      "text/html": [
       "<img src=\"https://blog.paperspace.com/content/images/2022/05/image-16.png\" width=\"400\"/>"
      ],
      "text/plain": [
       "<IPython.core.display.Image object>"
      ]
     },
     "execution_count": 4,
     "metadata": {},
     "output_type": "execute_result"
    }
   ],
   "source": [
    "Image(url='https://blog.paperspace.com/content/images/2022/05/image-16.png', width=400)"
   ]
  }
 ],
 "metadata": {
  "kernelspec": {
   "display_name": "Python 3 (ipykernel)",
   "language": "python",
   "name": "python3"
  },
  "language_info": {
   "codemirror_mode": {
    "name": "ipython",
    "version": 3
   },
   "file_extension": ".py",
   "mimetype": "text/x-python",
   "name": "python",
   "nbconvert_exporter": "python",
   "pygments_lexer": "ipython3",
   "version": "3.10.13"
  },
  "toc": {
   "base_numbering": 1,
   "nav_menu": {},
   "number_sections": true,
   "sideBar": true,
   "skip_h1_title": false,
   "title_cell": "Table of Contents",
   "title_sidebar": "Contents",
   "toc_cell": false,
   "toc_position": {},
   "toc_section_display": true,
   "toc_window_display": false
  }
 },
 "nbformat": 4,
 "nbformat_minor": 5
}
